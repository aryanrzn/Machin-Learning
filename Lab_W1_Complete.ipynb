{
 "cells": [
  {
   "cell_type": "markdown",
   "metadata": {},
   "source": [
    "# Lab 1: Python Refresher"
   ]
  },
  {
   "cell_type": "markdown",
   "metadata": {},
   "source": [
    "---\n",
    "# Markdown Cell Review\n",
    "\n",
    "HELLO **THIS IS BOLD TEXT**\n",
    "\n",
    "# THIS IS A TITLE\n",
    "\n",
    "## I'M A SUBTITLE\n",
    "\n",
    "*Now in italics*\n",
    "\n",
    "```\n",
    "1 + 1\n",
    "```\n",
    "\n",
    "$\n",
    "\\sum_i^n x^i \n",
    "$\n",
    "\n",
    "$$\n",
    "\\sum_i^n x^i \n",
    "$$\n",
    "\n",
    "[Click here for a markdown cheatsheet](https://github.com/adam-p/markdown-here/wiki/Markdown-Here-Cheatsheet)"
   ]
  },
  {
   "cell_type": "markdown",
   "metadata": {},
   "source": [
    "---\n",
    "# If you have no coding experience, [click here for a tutorial on programming](https://www.kaggle.com/learn/intro-to-programming)"
   ]
  },
  {
   "cell_type": "markdown",
   "metadata": {},
   "source": [
    "---\n",
    "# [Click here to access the Python official tutorial](https://docs.python.org/3.12/tutorial/index.html)"
   ]
  },
  {
   "cell_type": "markdown",
   "metadata": {},
   "source": [
    "---\n",
    "# [Click here for a nice Python tutorial](https://www.kaggle.com/learn/python)"
   ]
  },
  {
   "cell_type": "markdown",
   "metadata": {
    "id": "vg4vxMdj3fzj"
   },
   "source": [
    "---\n",
    "# Current Work Directory"
   ]
  },
  {
   "cell_type": "code",
   "execution_count": 1,
   "metadata": {
    "colab": {
     "base_uri": "https://localhost:8080/"
    },
    "executionInfo": {
     "elapsed": 224,
     "status": "ok",
     "timestamp": 1662670712142,
     "user": {
      "displayName": "Alireza Fazeli",
      "userId": "13019604121988176443"
     },
     "user_tz": 240
    },
    "id": "C98W3YTG3c2c",
    "outputId": "c3f33925-351a-4c45-af85-849f8f700821"
   },
   "outputs": [
    {
     "ename": "FileNotFoundError",
     "evalue": "[Errno 2] No such file or directory: 'path_to_hockey.csv'",
     "output_type": "error",
     "traceback": [
      "\u001b[0;31m---------------------------------------------------------------------------\u001b[0m",
      "\u001b[0;31mFileNotFoundError\u001b[0m                         Traceback (most recent call last)",
      "Cell \u001b[0;32mIn[1], line 4\u001b[0m\n\u001b[1;32m      1\u001b[0m \u001b[38;5;28;01mimport\u001b[39;00m \u001b[38;5;21;01mpandas\u001b[39;00m \u001b[38;5;28;01mas\u001b[39;00m \u001b[38;5;21;01mpd\u001b[39;00m\n\u001b[1;32m      3\u001b[0m \u001b[38;5;66;03m# Load the dataset\u001b[39;00m\n\u001b[0;32m----> 4\u001b[0m hockey_df \u001b[38;5;241m=\u001b[39m pd\u001b[38;5;241m.\u001b[39mread_csv(\u001b[38;5;124m'\u001b[39m\u001b[38;5;124mpath_to_hockey.csv\u001b[39m\u001b[38;5;124m'\u001b[39m)  \u001b[38;5;66;03m# Replace with the correct path to your CSV file\u001b[39;00m\n\u001b[1;32m      6\u001b[0m \u001b[38;5;66;03m# Total number of games played, and the breakdown of \"HOME\" and \"AWAY\" matches\u001b[39;00m\n\u001b[1;32m      7\u001b[0m total_games \u001b[38;5;241m=\u001b[39m \u001b[38;5;28mlen\u001b[39m(hockey_df)\n",
      "File \u001b[0;32m~/anaconda3/lib/python3.11/site-packages/pandas/util/_decorators.py:211\u001b[0m, in \u001b[0;36mdeprecate_kwarg.<locals>._deprecate_kwarg.<locals>.wrapper\u001b[0;34m(*args, **kwargs)\u001b[0m\n\u001b[1;32m    209\u001b[0m     \u001b[38;5;28;01melse\u001b[39;00m:\n\u001b[1;32m    210\u001b[0m         kwargs[new_arg_name] \u001b[38;5;241m=\u001b[39m new_arg_value\n\u001b[0;32m--> 211\u001b[0m \u001b[38;5;28;01mreturn\u001b[39;00m func(\u001b[38;5;241m*\u001b[39margs, \u001b[38;5;241m*\u001b[39m\u001b[38;5;241m*\u001b[39mkwargs)\n",
      "File \u001b[0;32m~/anaconda3/lib/python3.11/site-packages/pandas/util/_decorators.py:331\u001b[0m, in \u001b[0;36mdeprecate_nonkeyword_arguments.<locals>.decorate.<locals>.wrapper\u001b[0;34m(*args, **kwargs)\u001b[0m\n\u001b[1;32m    325\u001b[0m \u001b[38;5;28;01mif\u001b[39;00m \u001b[38;5;28mlen\u001b[39m(args) \u001b[38;5;241m>\u001b[39m num_allow_args:\n\u001b[1;32m    326\u001b[0m     warnings\u001b[38;5;241m.\u001b[39mwarn(\n\u001b[1;32m    327\u001b[0m         msg\u001b[38;5;241m.\u001b[39mformat(arguments\u001b[38;5;241m=\u001b[39m_format_argument_list(allow_args)),\n\u001b[1;32m    328\u001b[0m         \u001b[38;5;167;01mFutureWarning\u001b[39;00m,\n\u001b[1;32m    329\u001b[0m         stacklevel\u001b[38;5;241m=\u001b[39mfind_stack_level(),\n\u001b[1;32m    330\u001b[0m     )\n\u001b[0;32m--> 331\u001b[0m \u001b[38;5;28;01mreturn\u001b[39;00m func(\u001b[38;5;241m*\u001b[39margs, \u001b[38;5;241m*\u001b[39m\u001b[38;5;241m*\u001b[39mkwargs)\n",
      "File \u001b[0;32m~/anaconda3/lib/python3.11/site-packages/pandas/io/parsers/readers.py:950\u001b[0m, in \u001b[0;36mread_csv\u001b[0;34m(filepath_or_buffer, sep, delimiter, header, names, index_col, usecols, squeeze, prefix, mangle_dupe_cols, dtype, engine, converters, true_values, false_values, skipinitialspace, skiprows, skipfooter, nrows, na_values, keep_default_na, na_filter, verbose, skip_blank_lines, parse_dates, infer_datetime_format, keep_date_col, date_parser, dayfirst, cache_dates, iterator, chunksize, compression, thousands, decimal, lineterminator, quotechar, quoting, doublequote, escapechar, comment, encoding, encoding_errors, dialect, error_bad_lines, warn_bad_lines, on_bad_lines, delim_whitespace, low_memory, memory_map, float_precision, storage_options)\u001b[0m\n\u001b[1;32m    935\u001b[0m kwds_defaults \u001b[38;5;241m=\u001b[39m _refine_defaults_read(\n\u001b[1;32m    936\u001b[0m     dialect,\n\u001b[1;32m    937\u001b[0m     delimiter,\n\u001b[0;32m   (...)\u001b[0m\n\u001b[1;32m    946\u001b[0m     defaults\u001b[38;5;241m=\u001b[39m{\u001b[38;5;124m\"\u001b[39m\u001b[38;5;124mdelimiter\u001b[39m\u001b[38;5;124m\"\u001b[39m: \u001b[38;5;124m\"\u001b[39m\u001b[38;5;124m,\u001b[39m\u001b[38;5;124m\"\u001b[39m},\n\u001b[1;32m    947\u001b[0m )\n\u001b[1;32m    948\u001b[0m kwds\u001b[38;5;241m.\u001b[39mupdate(kwds_defaults)\n\u001b[0;32m--> 950\u001b[0m \u001b[38;5;28;01mreturn\u001b[39;00m _read(filepath_or_buffer, kwds)\n",
      "File \u001b[0;32m~/anaconda3/lib/python3.11/site-packages/pandas/io/parsers/readers.py:605\u001b[0m, in \u001b[0;36m_read\u001b[0;34m(filepath_or_buffer, kwds)\u001b[0m\n\u001b[1;32m    602\u001b[0m _validate_names(kwds\u001b[38;5;241m.\u001b[39mget(\u001b[38;5;124m\"\u001b[39m\u001b[38;5;124mnames\u001b[39m\u001b[38;5;124m\"\u001b[39m, \u001b[38;5;28;01mNone\u001b[39;00m))\n\u001b[1;32m    604\u001b[0m \u001b[38;5;66;03m# Create the parser.\u001b[39;00m\n\u001b[0;32m--> 605\u001b[0m parser \u001b[38;5;241m=\u001b[39m TextFileReader(filepath_or_buffer, \u001b[38;5;241m*\u001b[39m\u001b[38;5;241m*\u001b[39mkwds)\n\u001b[1;32m    607\u001b[0m \u001b[38;5;28;01mif\u001b[39;00m chunksize \u001b[38;5;129;01mor\u001b[39;00m iterator:\n\u001b[1;32m    608\u001b[0m     \u001b[38;5;28;01mreturn\u001b[39;00m parser\n",
      "File \u001b[0;32m~/anaconda3/lib/python3.11/site-packages/pandas/io/parsers/readers.py:1442\u001b[0m, in \u001b[0;36mTextFileReader.__init__\u001b[0;34m(self, f, engine, **kwds)\u001b[0m\n\u001b[1;32m   1439\u001b[0m     \u001b[38;5;28mself\u001b[39m\u001b[38;5;241m.\u001b[39moptions[\u001b[38;5;124m\"\u001b[39m\u001b[38;5;124mhas_index_names\u001b[39m\u001b[38;5;124m\"\u001b[39m] \u001b[38;5;241m=\u001b[39m kwds[\u001b[38;5;124m\"\u001b[39m\u001b[38;5;124mhas_index_names\u001b[39m\u001b[38;5;124m\"\u001b[39m]\n\u001b[1;32m   1441\u001b[0m \u001b[38;5;28mself\u001b[39m\u001b[38;5;241m.\u001b[39mhandles: IOHandles \u001b[38;5;241m|\u001b[39m \u001b[38;5;28;01mNone\u001b[39;00m \u001b[38;5;241m=\u001b[39m \u001b[38;5;28;01mNone\u001b[39;00m\n\u001b[0;32m-> 1442\u001b[0m \u001b[38;5;28mself\u001b[39m\u001b[38;5;241m.\u001b[39m_engine \u001b[38;5;241m=\u001b[39m \u001b[38;5;28mself\u001b[39m\u001b[38;5;241m.\u001b[39m_make_engine(f, \u001b[38;5;28mself\u001b[39m\u001b[38;5;241m.\u001b[39mengine)\n",
      "File \u001b[0;32m~/anaconda3/lib/python3.11/site-packages/pandas/io/parsers/readers.py:1735\u001b[0m, in \u001b[0;36mTextFileReader._make_engine\u001b[0;34m(self, f, engine)\u001b[0m\n\u001b[1;32m   1733\u001b[0m     \u001b[38;5;28;01mif\u001b[39;00m \u001b[38;5;124m\"\u001b[39m\u001b[38;5;124mb\u001b[39m\u001b[38;5;124m\"\u001b[39m \u001b[38;5;129;01mnot\u001b[39;00m \u001b[38;5;129;01min\u001b[39;00m mode:\n\u001b[1;32m   1734\u001b[0m         mode \u001b[38;5;241m+\u001b[39m\u001b[38;5;241m=\u001b[39m \u001b[38;5;124m\"\u001b[39m\u001b[38;5;124mb\u001b[39m\u001b[38;5;124m\"\u001b[39m\n\u001b[0;32m-> 1735\u001b[0m \u001b[38;5;28mself\u001b[39m\u001b[38;5;241m.\u001b[39mhandles \u001b[38;5;241m=\u001b[39m get_handle(\n\u001b[1;32m   1736\u001b[0m     f,\n\u001b[1;32m   1737\u001b[0m     mode,\n\u001b[1;32m   1738\u001b[0m     encoding\u001b[38;5;241m=\u001b[39m\u001b[38;5;28mself\u001b[39m\u001b[38;5;241m.\u001b[39moptions\u001b[38;5;241m.\u001b[39mget(\u001b[38;5;124m\"\u001b[39m\u001b[38;5;124mencoding\u001b[39m\u001b[38;5;124m\"\u001b[39m, \u001b[38;5;28;01mNone\u001b[39;00m),\n\u001b[1;32m   1739\u001b[0m     compression\u001b[38;5;241m=\u001b[39m\u001b[38;5;28mself\u001b[39m\u001b[38;5;241m.\u001b[39moptions\u001b[38;5;241m.\u001b[39mget(\u001b[38;5;124m\"\u001b[39m\u001b[38;5;124mcompression\u001b[39m\u001b[38;5;124m\"\u001b[39m, \u001b[38;5;28;01mNone\u001b[39;00m),\n\u001b[1;32m   1740\u001b[0m     memory_map\u001b[38;5;241m=\u001b[39m\u001b[38;5;28mself\u001b[39m\u001b[38;5;241m.\u001b[39moptions\u001b[38;5;241m.\u001b[39mget(\u001b[38;5;124m\"\u001b[39m\u001b[38;5;124mmemory_map\u001b[39m\u001b[38;5;124m\"\u001b[39m, \u001b[38;5;28;01mFalse\u001b[39;00m),\n\u001b[1;32m   1741\u001b[0m     is_text\u001b[38;5;241m=\u001b[39mis_text,\n\u001b[1;32m   1742\u001b[0m     errors\u001b[38;5;241m=\u001b[39m\u001b[38;5;28mself\u001b[39m\u001b[38;5;241m.\u001b[39moptions\u001b[38;5;241m.\u001b[39mget(\u001b[38;5;124m\"\u001b[39m\u001b[38;5;124mencoding_errors\u001b[39m\u001b[38;5;124m\"\u001b[39m, \u001b[38;5;124m\"\u001b[39m\u001b[38;5;124mstrict\u001b[39m\u001b[38;5;124m\"\u001b[39m),\n\u001b[1;32m   1743\u001b[0m     storage_options\u001b[38;5;241m=\u001b[39m\u001b[38;5;28mself\u001b[39m\u001b[38;5;241m.\u001b[39moptions\u001b[38;5;241m.\u001b[39mget(\u001b[38;5;124m\"\u001b[39m\u001b[38;5;124mstorage_options\u001b[39m\u001b[38;5;124m\"\u001b[39m, \u001b[38;5;28;01mNone\u001b[39;00m),\n\u001b[1;32m   1744\u001b[0m )\n\u001b[1;32m   1745\u001b[0m \u001b[38;5;28;01massert\u001b[39;00m \u001b[38;5;28mself\u001b[39m\u001b[38;5;241m.\u001b[39mhandles \u001b[38;5;129;01mis\u001b[39;00m \u001b[38;5;129;01mnot\u001b[39;00m \u001b[38;5;28;01mNone\u001b[39;00m\n\u001b[1;32m   1746\u001b[0m f \u001b[38;5;241m=\u001b[39m \u001b[38;5;28mself\u001b[39m\u001b[38;5;241m.\u001b[39mhandles\u001b[38;5;241m.\u001b[39mhandle\n",
      "File \u001b[0;32m~/anaconda3/lib/python3.11/site-packages/pandas/io/common.py:856\u001b[0m, in \u001b[0;36mget_handle\u001b[0;34m(path_or_buf, mode, encoding, compression, memory_map, is_text, errors, storage_options)\u001b[0m\n\u001b[1;32m    851\u001b[0m \u001b[38;5;28;01melif\u001b[39;00m \u001b[38;5;28misinstance\u001b[39m(handle, \u001b[38;5;28mstr\u001b[39m):\n\u001b[1;32m    852\u001b[0m     \u001b[38;5;66;03m# Check whether the filename is to be opened in binary mode.\u001b[39;00m\n\u001b[1;32m    853\u001b[0m     \u001b[38;5;66;03m# Binary mode does not support 'encoding' and 'newline'.\u001b[39;00m\n\u001b[1;32m    854\u001b[0m     \u001b[38;5;28;01mif\u001b[39;00m ioargs\u001b[38;5;241m.\u001b[39mencoding \u001b[38;5;129;01mand\u001b[39;00m \u001b[38;5;124m\"\u001b[39m\u001b[38;5;124mb\u001b[39m\u001b[38;5;124m\"\u001b[39m \u001b[38;5;129;01mnot\u001b[39;00m \u001b[38;5;129;01min\u001b[39;00m ioargs\u001b[38;5;241m.\u001b[39mmode:\n\u001b[1;32m    855\u001b[0m         \u001b[38;5;66;03m# Encoding\u001b[39;00m\n\u001b[0;32m--> 856\u001b[0m         handle \u001b[38;5;241m=\u001b[39m \u001b[38;5;28mopen\u001b[39m(\n\u001b[1;32m    857\u001b[0m             handle,\n\u001b[1;32m    858\u001b[0m             ioargs\u001b[38;5;241m.\u001b[39mmode,\n\u001b[1;32m    859\u001b[0m             encoding\u001b[38;5;241m=\u001b[39mioargs\u001b[38;5;241m.\u001b[39mencoding,\n\u001b[1;32m    860\u001b[0m             errors\u001b[38;5;241m=\u001b[39merrors,\n\u001b[1;32m    861\u001b[0m             newline\u001b[38;5;241m=\u001b[39m\u001b[38;5;124m\"\u001b[39m\u001b[38;5;124m\"\u001b[39m,\n\u001b[1;32m    862\u001b[0m         )\n\u001b[1;32m    863\u001b[0m     \u001b[38;5;28;01melse\u001b[39;00m:\n\u001b[1;32m    864\u001b[0m         \u001b[38;5;66;03m# Binary mode\u001b[39;00m\n\u001b[1;32m    865\u001b[0m         handle \u001b[38;5;241m=\u001b[39m \u001b[38;5;28mopen\u001b[39m(handle, ioargs\u001b[38;5;241m.\u001b[39mmode)\n",
      "\u001b[0;31mFileNotFoundError\u001b[0m: [Errno 2] No such file or directory: 'path_to_hockey.csv'"
     ]
    }
   ],
   "source": [
    "import pandas as pd\n",
    "import numpy as np\n",
    "from sklearn.model_selection import train_test_split, cross_val_score\n",
    "from sklearn.linear_model import LinearRegression\n",
    "from sklearn.metrics import mean_squared_error\n",
    "from sklearn.preprocessing import OneHotEncoder\n",
    "from sklearn.compose import ColumnTransformer\n",
    "from sklearn.pipeline import Pipeline\n",
    "\n",
    "# Assuming 'seed' is predefined in the notebook. If not, define a seed for reproducibility\n",
    "seed = 42  # Replace with the notebook's random seed\n",
    "\n",
    "# Load the dataset\n",
    "hockey_df = pd.read_csv('/mnt/data/hockey.csv')  # Adjust the path as needed\n",
    "\n",
    "# Preparing the data\n",
    "X = hockey_df.drop('icetime', axis=1)\n",
    "y = hockey_df['icetime']\n",
    "\n",
    "# Encoding categorical variables with OneHotEncoder, handling unknown categories\n",
    "categorical_features = ['opposingTeam', 'home_or_away']\n",
    "one_hot_encoder = OneHotEncoder(handle_unknown='ignore')\n",
    "\n",
    "preprocessor = ColumnTransformer(\n",
    "    transformers=[\n",
    "        ('cat', one_hot_encoder, categorical_features)\n",
    "    ], remainder='passthrough')\n",
    "\n",
    "# Splitting the dataset into training and test sets\n",
    "X_train, X_test, y_train, y_test = train_test_split(X, y, test_size=0.3, random_state=seed)\n",
    "\n",
    "# Linear Regression model\n",
    "model = LinearRegression()\n",
    "\n",
    "# Creating a pipeline\n",
    "pipeline = Pipeline(steps=[('preprocessor', preprocessor),\n",
    "                           ('model', model)])\n",
    "\n",
    "# Training the model\n",
    "pipeline.fit(X_train, y_train)\n",
    "\n",
    "# Predicting on training and test sets\n",
    "y_train_pred = pipeline.predict(X_train)\n",
    "y_test_pred = pipeline.predict(X_test)\n",
    "\n",
    "# RMSE for training and test sets\n",
    "train_rmse = np.sqrt(mean_squared_error(y_train, y_train_pred))\n",
    "test_rmse = np.sqrt(mean_squared_error(y_test, y_test_pred))\n",
    "\n",
    "# Cross-validated RMSE over 5 folds\n",
    "cv_rmse = cross_val_score(pipeline, X, y, cv=5, scoring='neg_mean_squared_error', n_jobs=-1)\n",
    "cv_rmse = np.sqrt(-cv_rmse)\n",
    "cv_mean_rmse = cv_rmse.mean()\n",
    "cv_std_rmse = cv_rmse.std()\n",
    "\n",
    "print(f\"Training RMSE: {train_rmse}\")\n",
    "print(f\"Test RMSE: {test_rmse}\")\n",
    "print(f\"Cross-validated RMSE (mean): {cv_mean_rmse}\")\n",
    "print(f\"Cross-validated RMSE (std): {cv_std_rmse}\")\n",
    "\n",
    "# Comment on the performance regarding overfitting/underfitting\n"
   ]
  },
  {
   "cell_type": "markdown",
   "metadata": {
    "id": "kb7tR6Luj12n"
   },
   "source": [
    "---\n",
    "# Types\n",
    "\n",
    "**Built-in Data Types by Category:**\n",
    "\n",
    "Text Type:      **str**\n",
    "\n",
    "Numeric Types:  **int**, **float**, **complex**\n",
    "\n",
    "Sequence Types: **list**, **tuple**, **range**\n",
    "\n",
    "Set Types:      **set**, **frozenset**\n",
    "\n",
    "**List vs Tuple vs Set:**\n",
    "\n",
    "<left><img src=\"./Builtin/Material_01.png\" alt=\"drawing\" width=\"400\"><left>\n",
    "\n",
    "(\"frozenset\" is immutable version of \"set\")\n",
    "\n",
    "Mapping Type:   **dict**\n",
    "\n",
    "Boolean Type:   **bool**\n",
    "\n",
    "Binary Types:   **bytes**, **bytearray**, **memoryview**\n",
    "\n",
    "None Type:      **NoneType**"
   ]
  },
  {
   "cell_type": "code",
   "execution_count": 1,
   "metadata": {},
   "outputs": [
    {
     "name": "stdout",
     "output_type": "stream",
     "text": [
      "------Text------\n",
      "\n",
      "a is Hello\n",
      "<class 'str'>\n"
     ]
    }
   ],
   "source": [
    "print('------Text------')\n",
    "\n",
    "a = 'Hello'\n",
    "print('\\na is {}'.format(a))\n",
    "print(type(a))"
   ]
  },
  {
   "cell_type": "code",
   "execution_count": 4,
   "metadata": {},
   "outputs": [
    {
     "name": "stdout",
     "output_type": "stream",
     "text": [
      "------Numeric------\n",
      "\n",
      "b is 10\n",
      "<class 'str'>\n",
      "\n",
      "c is 10.1\n",
      "<class 'str'>\n",
      "\n",
      "d is 2j\n",
      "<class 'complex'>\n"
     ]
    }
   ],
   "source": [
    "print('------Numeric------')\n",
    "\n",
    "b = '10'\n",
    "print('\\nb is {}'.format(b))\n",
    "print(type(b))\n",
    "\n",
    "c = '10.1'\n",
    "print('\\nc is {}'.format(c))\n",
    "print(type(c))\n",
    "\n",
    "d = 2j\n",
    "print('\\nd is {}'.format(d))\n",
    "print(type(d))"
   ]
  },
  {
   "cell_type": "code",
   "execution_count": 6,
   "metadata": {},
   "outputs": [
    {
     "name": "stdout",
     "output_type": "stream",
     "text": [
      "------Sequence------\n",
      "\n",
      "e is ['apple', 'banana', 'cherry']\n",
      "<class 'list'>\n",
      "\n",
      "f is ('apple', 'banana', 'cherry')\n",
      "<class 'tuple'>\n",
      "\n",
      "g is range(0, 6)\n",
      "<class 'range'>\n"
     ]
    }
   ],
   "source": [
    "print('------Sequence------')\n",
    "\n",
    "e = [\"apple\", \"banana\", \"cherry\"]\n",
    "print('\\ne is {}'.format(e))\n",
    "print(type(e))\n",
    "\n",
    "f = (\"apple\", \"banana\", \"cherry\")\n",
    "print('\\nf is {}'.format(f))\n",
    "print(type(f))\n",
    "\n",
    "g = range(6)\n",
    "print('\\ng is {}'.format(g))\n",
    "print(type(g))"
   ]
  },
  {
   "cell_type": "code",
   "execution_count": 7,
   "metadata": {},
   "outputs": [
    {
     "name": "stdout",
     "output_type": "stream",
     "text": [
      "------Set------\n",
      "\n",
      "h is {'apple', 'banana', 'cherry'}\n",
      "<class 'set'>\n",
      "\n",
      "i is frozenset({'apple', 'banana', 'cherry'})\n",
      "<class 'frozenset'>\n"
     ]
    }
   ],
   "source": [
    "print('------Set------')\n",
    "\n",
    "h = {\"apple\", \"banana\", \"cherry\"}\n",
    "print('\\nh is {}'.format(h))\n",
    "print(type(h))\n",
    "\n",
    "i = frozenset({\"apple\", \"banana\", \"cherry\"})\n",
    "print('\\ni is {}'.format(i))\n",
    "print(type(i))"
   ]
  },
  {
   "cell_type": "code",
   "execution_count": 8,
   "metadata": {},
   "outputs": [
    {
     "name": "stdout",
     "output_type": "stream",
     "text": [
      "------Mapping------\n",
      "\n",
      "j is {'name': 'John', 'age': 36}\n",
      "<class 'dict'>\n"
     ]
    }
   ],
   "source": [
    "print('------Mapping------')\n",
    "\n",
    "j = {\"name\" : \"John\", \"age\" : 36}\n",
    "print('\\nj is {}'.format(j))\n",
    "print(type(j))"
   ]
  },
  {
   "cell_type": "code",
   "execution_count": 12,
   "metadata": {},
   "outputs": [
    {
     "name": "stdout",
     "output_type": "stream",
     "text": [
      "------Boolean------\n",
      "\n",
      "k is False\n",
      "<class 'bool'>\n"
     ]
    }
   ],
   "source": [
    "print('------Boolean------')\n",
    "\n",
    "k = False\n",
    "print('\\nk is {}'.format(k))\n",
    "print(type(k))"
   ]
  },
  {
   "cell_type": "code",
   "execution_count": 13,
   "metadata": {},
   "outputs": [
    {
     "name": "stdout",
     "output_type": "stream",
     "text": [
      "------Binary------\n",
      "\n",
      "l is b'Hello'\n",
      "<class 'bytes'>\n",
      "\n",
      "m is bytearray(b'\\x00\\x00\\x00\\x00\\x00')\n",
      "<class 'bytearray'>\n",
      "\n",
      "n is <memory at 0x107d4f400>\n",
      "<class 'memoryview'>\n"
     ]
    }
   ],
   "source": [
    "print('------Binary------')\n",
    "\n",
    "l = b\"Hello\"\n",
    "print('\\nl is {}'.format(l))\n",
    "print(type(l))\n",
    "\n",
    "m = bytearray(5)\n",
    "print('\\nm is {}'.format(m))\n",
    "print(type(m))\n",
    "\n",
    "n = memoryview(bytes(5))\n",
    "print('\\nn is {}'.format(n))\n",
    "print(type(n))"
   ]
  },
  {
   "cell_type": "code",
   "execution_count": 11,
   "metadata": {
    "colab": {
     "base_uri": "https://localhost:8080/"
    },
    "executionInfo": {
     "elapsed": 376,
     "status": "ok",
     "timestamp": 1662671037803,
     "user": {
      "displayName": "Alireza Fazeli",
      "userId": "13019604121988176443"
     },
     "user_tz": 240
    },
    "id": "DHxEHZPbbj9l",
    "outputId": "8fb0c838-bd69-4412-ef90-b55cdea5bfc1"
   },
   "outputs": [
    {
     "name": "stdout",
     "output_type": "stream",
     "text": [
      "------None------\n",
      "\n",
      "o is None\n",
      "<class 'NoneType'>\n"
     ]
    }
   ],
   "source": [
    "print('------None------')\n",
    "\n",
    "o = None\n",
    "print('\\no is {}'.format(o))\n",
    "print(type(o))"
   ]
  },
  {
   "cell_type": "markdown",
   "metadata": {
    "id": "_ppG-63W1r_z"
   },
   "source": [
    "---\n",
    "# Conditionals"
   ]
  },
  {
   "cell_type": "code",
   "execution_count": 14,
   "metadata": {
    "colab": {
     "base_uri": "https://localhost:8080/"
    },
    "executionInfo": {
     "elapsed": 179,
     "status": "ok",
     "timestamp": 1661528913650,
     "user": {
      "displayName": "Alireza Fazeli",
      "userId": "13019604121988176443"
     },
     "user_tz": 240
    },
    "id": "XtPiQ5UetnxO",
    "outputId": "b8906f86-80ea-44ca-dced-425ff28ab347"
   },
   "outputs": [
    {
     "name": "stdout",
     "output_type": "stream",
     "text": [
      "x < y: x is 435.1 and y is 435.4\n"
     ]
    }
   ],
   "source": [
    "x = 435.10\n",
    "y = 435.4\n",
    "\n",
    "if x < y:\n",
    "    print('x < y: x is {} and y is {}'.format(x, y))"
   ]
  },
  {
   "cell_type": "code",
   "execution_count": 18,
   "metadata": {
    "colab": {
     "base_uri": "https://localhost:8080/"
    },
    "executionInfo": {
     "elapsed": 154,
     "status": "ok",
     "timestamp": 1661539057159,
     "user": {
      "displayName": "Alireza Fazeli",
      "userId": "13019604121988176443"
     },
     "user_tz": 240
    },
    "id": "R6ybw3G3cO7S",
    "outputId": "650f0db0-da5e-46d8-ec1d-eb51eba9da0d"
   },
   "outputs": [
    {
     "name": "stdout",
     "output_type": "stream",
     "text": [
      "Expression is false\n"
     ]
    }
   ],
   "source": [
    "a = True\n",
    "b = False\n",
    "\n",
    "if a and b:\n",
    "    print('Expression is true')\n",
    "else:\n",
    "    print('Expression is false')"
   ]
  },
  {
   "cell_type": "markdown",
   "metadata": {
    "id": "Dj1xirw61_8K"
   },
   "source": [
    "---\n",
    "# For Loop"
   ]
  },
  {
   "cell_type": "code",
   "execution_count": null,
   "metadata": {
    "colab": {
     "base_uri": "https://localhost:8080/"
    },
    "executionInfo": {
     "elapsed": 151,
     "status": "ok",
     "timestamp": 1661539712644,
     "user": {
      "displayName": "Alireza Fazeli",
      "userId": "13019604121988176443"
     },
     "user_tz": 240
    },
    "id": "-XThxfl_2jjC",
    "outputId": "8ee0c9bd-5a1b-44ed-e92c-311244a63c36"
   },
   "outputs": [],
   "source": [
    "words = ['one', 'two', 'three', 'four', 'five']\n",
    "for i in words:\n",
    "    print(i)\n",
    "\n",
    "print('\\n')\n",
    "\n",
    "#Index for each one (Make tuple)\n",
    "for i in enumerate(words):\n",
    "    print(i)\n",
    "\n",
    "print('\\n')\n",
    "\n",
    "for i in range(len(words)):\n",
    "    print(i)"
   ]
  },
  {
   "cell_type": "markdown",
   "metadata": {
    "id": "mjHNxM_H2AgR"
   },
   "source": [
    "---\n",
    "# While Loop"
   ]
  },
  {
   "cell_type": "code",
   "execution_count": 35,
   "metadata": {
    "colab": {
     "base_uri": "https://localhost:8080/"
    },
    "executionInfo": {
     "elapsed": 219,
     "status": "ok",
     "timestamp": 1661529089863,
     "user": {
      "displayName": "Alireza Fazeli",
      "userId": "13019604121988176443"
     },
     "user_tz": 240
    },
    "id": "2ISqEURg1Xyi",
    "outputId": "8d77709c-a366-4d1f-aa0f-068bdb13e561"
   },
   "outputs": [
    {
     "name": "stdout",
     "output_type": "stream",
     "text": [
      "1 1 2 3 5 8 13 21 34 55 89 144 233 377 610 987 "
     ]
    }
   ],
   "source": [
    "# A recurrence relation: simple fibonacci series\n",
    "a, b = 0, 1\n",
    "while b < 1000:\n",
    "    print(b, end = ' ', flush = True)\n",
    "    a, b = b, a + b"
   ]
  },
  {
   "cell_type": "code",
   "execution_count": null,
   "metadata": {
    "colab": {
     "base_uri": "https://localhost:8080/"
    },
    "executionInfo": {
     "elapsed": 12952,
     "status": "ok",
     "timestamp": 1661539467454,
     "user": {
      "displayName": "Alireza Fazeli",
      "userId": "13019604121988176443"
     },
     "user_tz": 240
    },
    "id": "5HyN0bmlc_dM",
    "outputId": "855671b4-81bd-4f3f-94e5-5509e2df8188"
   },
   "outputs": [],
   "source": [
    "# Enter the correct password, or I won't let you proceed :-)\n",
    "\n",
    "secret = 'Python'\n",
    "password = ''\n",
    "\n",
    "while password != secret:\n",
    "    password = input(\"What's the password? \") \n",
    "else:\n",
    "  print(\"Passeord is correct!\")"
   ]
  },
  {
   "cell_type": "markdown",
   "metadata": {
    "id": "-bGSc8xt3BDS"
   },
   "source": [
    "---\n",
    "# Function"
   ]
  },
  {
   "cell_type": "code",
   "execution_count": null,
   "metadata": {
    "colab": {
     "base_uri": "https://localhost:8080/"
    },
    "executionInfo": {
     "elapsed": 32,
     "status": "ok",
     "timestamp": 1662671569048,
     "user": {
      "displayName": "Alireza Fazeli",
      "userId": "13019604121988176443"
     },
     "user_tz": 240
    },
    "id": "MkojUokS2mla",
    "outputId": "603e3b49-0661-4a45-efdf-178072286e18"
   },
   "outputs": [],
   "source": [
    "def sum(a,b):\n",
    "    c = a+b\n",
    "    return print('Sum is {}'.format(c))\n",
    "\n",
    "sum(1,2)"
   ]
  },
  {
   "cell_type": "code",
   "execution_count": null,
   "metadata": {
    "colab": {
     "base_uri": "https://localhost:8080/"
    },
    "executionInfo": {
     "elapsed": 281,
     "status": "ok",
     "timestamp": 1662671799444,
     "user": {
      "displayName": "Alireza Fazeli",
      "userId": "13019604121988176443"
     },
     "user_tz": 240
    },
    "id": "sff3Y5zn3rCL",
    "outputId": "acac95db-317f-49b1-e783-236ca929a193"
   },
   "outputs": [],
   "source": [
    "# Get Python version\n",
    "import platform\n",
    "\n",
    "def message():\n",
    "    print('This is python version {}'.format(platform.python_version()))\n",
    "\n",
    "def main():\n",
    "    message()\n",
    "\n",
    "if __name__ == '__main__': main()"
   ]
  },
  {
   "cell_type": "markdown",
   "metadata": {
    "id": "V5Iv3vEWa-yD"
   },
   "source": [
    "---\n",
    "# Function + Conditional + For"
   ]
  },
  {
   "cell_type": "code",
   "execution_count": null,
   "metadata": {
    "colab": {
     "base_uri": "https://localhost:8080/"
    },
    "executionInfo": {
     "elapsed": 255,
     "status": "ok",
     "timestamp": 1662671888348,
     "user": {
      "displayName": "Alireza Fazeli",
      "userId": "13019604121988176443"
     },
     "user_tz": 240
    },
    "id": "EfFEoRM2bIkv",
    "outputId": "faca48cc-0e76-454d-d7fd-20eccea0b319"
   },
   "outputs": [],
   "source": [
    "# Find out if a given number is prime\n",
    "\n",
    "def isprime(n):\n",
    "    if n <= 1:\n",
    "        return False\n",
    "    for x in range(2, n):\n",
    "        if n % x == 0:\n",
    "            return False\n",
    "    else:\n",
    "        return True\n",
    "\n",
    "n = 5\n",
    "if isprime(n):\n",
    "    print(f'{n} is prime')\n",
    "else:\n",
    "    print(f'{n} not prime')"
   ]
  },
  {
   "cell_type": "code",
   "execution_count": null,
   "metadata": {
    "colab": {
     "base_uri": "https://localhost:8080/"
    },
    "executionInfo": {
     "elapsed": 219,
     "status": "ok",
     "timestamp": 1662671912007,
     "user": {
      "displayName": "Alireza Fazeli",
      "userId": "13019604121988176443"
     },
     "user_tz": 240
    },
    "id": "BLiDeAE3cBQo",
    "outputId": "323545f1-f064-4904-d27e-f5a3679c18cb"
   },
   "outputs": [],
   "source": [
    "# One liner\n",
    "\n",
    "hungry = True\n",
    "x = 'Feed the python now!' if hungry else 'Do not feed the python.'\n",
    "print(x)"
   ]
  },
  {
   "cell_type": "markdown",
   "metadata": {
    "id": "aVTjIwro1sgJ"
   },
   "source": [
    "---\n",
    "# Class"
   ]
  },
  {
   "cell_type": "code",
   "execution_count": null,
   "metadata": {
    "executionInfo": {
     "elapsed": 224,
     "status": "ok",
     "timestamp": 1662671961510,
     "user": {
      "displayName": "Alireza Fazeli",
      "userId": "13019604121988176443"
     },
     "user_tz": 240
    },
    "id": "Ifc_LBJr1S5Z"
   },
   "outputs": [],
   "source": [
    "# Let's use a Class to determine the characteristics of an anaconda (the animal - not the IDE)\n",
    "\n",
    "class anaconda:\n",
    "    def sounds(self):\n",
    "        print('Hisses like a snake!')\n",
    "\n",
    "    def moves(self):\n",
    "        print('Slithers like a snake!')"
   ]
  },
  {
   "cell_type": "code",
   "execution_count": null,
   "metadata": {
    "colab": {
     "base_uri": "https://localhost:8080/"
    },
    "executionInfo": {
     "elapsed": 211,
     "status": "ok",
     "timestamp": 1662671963400,
     "user": {
      "displayName": "Alireza Fazeli",
      "userId": "13019604121988176443"
     },
     "user_tz": 240
    },
    "id": "62FARS1QWTD3",
    "outputId": "8db03ff8-e7f4-4280-d5c6-dbc5227f0985"
   },
   "outputs": [],
   "source": [
    "# sound and move \n",
    "\n",
    "python = anaconda()\n",
    "python.sounds()\n",
    "\n",
    "print('-----')\n",
    "\n",
    "python.moves()"
   ]
  },
  {
   "cell_type": "code",
   "execution_count": null,
   "metadata": {
    "colab": {
     "base_uri": "https://localhost:8080/"
    },
    "executionInfo": {
     "elapsed": 206,
     "status": "ok",
     "timestamp": 1662672031919,
     "user": {
      "displayName": "Alireza Fazeli",
      "userId": "13019604121988176443"
     },
     "user_tz": 240
    },
    "id": "eHGJSq68WRCi",
    "outputId": "84704885-34fd-4066-f2b9-40aaabb6c476"
   },
   "outputs": [],
   "source": [
    "# inheritance\n",
    "\n",
    "def main():\n",
    "    cobra = anaconda()\n",
    "    cobra.sounds()\n",
    "    cobra.moves()\n",
    "\n",
    "if __name__ == '__main__': main()"
   ]
  },
  {
   "cell_type": "code",
   "execution_count": null,
   "metadata": {
    "colab": {
     "base_uri": "https://localhost:8080/"
    },
    "executionInfo": {
     "elapsed": 176,
     "status": "ok",
     "timestamp": 1661538896275,
     "user": {
      "displayName": "Alireza Fazeli",
      "userId": "13019604121988176443"
     },
     "user_tz": 240
    },
    "id": "bmuySHfcZEp6",
    "outputId": "1afea1fd-44fa-4131-a213-264276bcd277"
   },
   "outputs": [],
   "source": [
    "class snake:\n",
    "  def __init__(self, s, l):\n",
    "    self.specie = s\n",
    "    self.length = l\n",
    "\n",
    "anaconda = snake(\"Python\", 2)\n",
    "\n",
    "print(anaconda.specie)\n",
    "print('-----')\n",
    "print(anaconda.length) \n",
    "print('-----')\n",
    "print(type(anaconda)) "
   ]
  },
  {
   "cell_type": "markdown",
   "metadata": {
    "id": "yrKCTV9jeKmg"
   },
   "source": [
    "---\n",
    "# *args"
   ]
  },
  {
   "cell_type": "code",
   "execution_count": null,
   "metadata": {
    "colab": {
     "base_uri": "https://localhost:8080/"
    },
    "executionInfo": {
     "elapsed": 193,
     "status": "ok",
     "timestamp": 1661539912190,
     "user": {
      "displayName": "Alireza Fazeli",
      "userId": "13019604121988176443"
     },
     "user_tz": 240
    },
    "id": "SMM42wh4ePUj",
    "outputId": "bb248607-9379-4403-c32e-d057c855c5b5"
   },
   "outputs": [],
   "source": [
    "# It is used to pass a variable number of arguments to a function.\n",
    "\n",
    "def my_sum(my_integers):\n",
    "    result = 0\n",
    "    for x in my_integers:\n",
    "        result += x\n",
    "    return result\n",
    "\n",
    "list_of_integers = [1, 2, 3]\n",
    "print(my_sum(list_of_integers))\n",
    "\n",
    "# This is where *args can be really useful, because it allows you to pass \n",
    "# a varying number of positional arguments:\n",
    "def my_sum(*integers):\n",
    "    result = 0\n",
    "    for x in integers:\n",
    "        result += x\n",
    "    return result\n",
    "\n",
    "print(my_sum(1, 2, 3))\n"
   ]
  },
  {
   "cell_type": "code",
   "execution_count": null,
   "metadata": {
    "colab": {
     "base_uri": "https://localhost:8080/"
    },
    "executionInfo": {
     "elapsed": 224,
     "status": "ok",
     "timestamp": 1661540132824,
     "user": {
      "displayName": "Alireza Fazeli",
      "userId": "13019604121988176443"
     },
     "user_tz": 240
    },
    "id": "MzzIIH42eRi_",
    "outputId": "3c7ec51a-74e8-4ef6-a00a-d29d2ea9576e"
   },
   "outputs": [],
   "source": [
    "# another example\n",
    "def main():\n",
    "    kitten('meow', 'grrr', 'purr') # kitten()\n",
    "\n",
    "def kitten(*args):\n",
    "    if len(args):\n",
    "        for s in args:\n",
    "            print(s)\n",
    "    else: print('Meow.')\n",
    "\n",
    "if __name__ == '__main__': main()"
   ]
  },
  {
   "cell_type": "markdown",
   "metadata": {
    "id": "0Hp2hU6OgzDb"
   },
   "source": [
    "---\n",
    "# **kwargs"
   ]
  },
  {
   "cell_type": "code",
   "execution_count": null,
   "metadata": {
    "colab": {
     "base_uri": "https://localhost:8080/"
    },
    "executionInfo": {
     "elapsed": 161,
     "status": "ok",
     "timestamp": 1661540300820,
     "user": {
      "displayName": "Alireza Fazeli",
      "userId": "13019604121988176443"
     },
     "user_tz": 240
    },
    "id": "SwVeBu-vguFt",
    "outputId": "174024cf-d8cc-4fe0-8a87-839cf9f0aa59"
   },
   "outputs": [],
   "source": [
    "# It works just like *args, but instead of accepting positional arguments it accepts keyword (or named) arguments\n",
    "\n",
    "def main():\n",
    "    kitten(Honey = 'meow', Daisy = 'grr', Ed = 'rawr')\n",
    "\n",
    "def kitten(**kwargs):\n",
    "    if len(kwargs):\n",
    "        for k in kwargs:\n",
    "            print('Kitten {} says {}.'.format(k, kwargs[k]))\n",
    "    else: print('Meow.')\n",
    "\n",
    "if __name__ == '__main__': main()"
   ]
  },
  {
   "cell_type": "markdown",
   "metadata": {
    "id": "bqa-Y-nKhUL-"
   },
   "source": [
    "---\n",
    "# Decorator"
   ]
  },
  {
   "cell_type": "code",
   "execution_count": null,
   "metadata": {
    "colab": {
     "base_uri": "https://localhost:8080/"
    },
    "executionInfo": {
     "elapsed": 5,
     "status": "ok",
     "timestamp": 1661541270383,
     "user": {
      "displayName": "Alireza Fazeli",
      "userId": "13019604121988176443"
     },
     "user_tz": 240
    },
    "id": "Uodm_HDkjQdo",
    "outputId": "9be195d9-c799-46e2-827d-0c319c54d195"
   },
   "outputs": [],
   "source": [
    "# A decorator is a function that takes another function and extends\n",
    "# the behavior of the latter function without explicitly modifying it.\n",
    "\n",
    "#### @decorator\n",
    "#### def func():\n",
    "####     ...\n",
    " \n",
    "# is equivalent to:\n",
    " \n",
    "#### def func():\n",
    "####     …\n",
    "#### func = decorator(func)\n",
    "\n",
    "# A simple decorator:\n",
    "# takes a function as argument and returns a new function that behaves like the\n",
    "# original function, except it prints the function name and argument for every call\n",
    "def trace(f):\n",
    "    def g(*args):\n",
    "        print(f.__name__, args)\n",
    "        return f(*args)\n",
    "    return g\n",
    "\n",
    "@trace\n",
    "def square(x):\n",
    "    return x*x\n",
    "\n",
    "@trace\n",
    "def sum_of_squares(x, y):\n",
    "    return square(x) + square(y)\n",
    "\n",
    "square(3,)\n",
    "# print('-----')\n",
    "# sum_of_squares (3, 4)"
   ]
  },
  {
   "cell_type": "code",
   "execution_count": null,
   "metadata": {
    "colab": {
     "base_uri": "https://localhost:8080/"
    },
    "executionInfo": {
     "elapsed": 134,
     "status": "ok",
     "timestamp": 1661542032558,
     "user": {
      "displayName": "Alireza Fazeli",
      "userId": "13019604121988176443"
     },
     "user_tz": 240
    },
    "id": "CG2oNSsshVUk",
    "outputId": "c61b1a9a-93cd-4b87-fccf-372eceec0ed6"
   },
   "outputs": [],
   "source": [
    "import time\n",
    "import builtins # sometimes need it sometimes dont depending on your platform\n",
    "\n",
    "def elapsed_time(f):\n",
    "    def wrapper():\n",
    "        t1 = time.time()\n",
    "        f()\n",
    "        t2 = time.time()\n",
    "        print(f'Elapsed time: {(t2 - t1) * 1000} ms')\n",
    "    return wrapper\n",
    "\n",
    "@elapsed_time\n",
    "def big_sum():\n",
    "    num_list = []\n",
    "    for num in (range(0, 10000)):\n",
    "        num_list.append(num)\n",
    "    print(f'Big sum: {builtins.sum(num_list)}')\n",
    "\n",
    "def main():\n",
    "    big_sum()\n",
    "\n",
    "if __name__ == '__main__': main()"
   ]
  },
  {
   "cell_type": "markdown",
   "metadata": {
    "id": "eBePENgNqsYh"
   },
   "source": [
    "---\n",
    "# [NumPy](https://numpy.org/)"
   ]
  },
  {
   "cell_type": "code",
   "execution_count": 1,
   "metadata": {},
   "outputs": [
    {
     "name": "stdout",
     "output_type": "stream",
     "text": [
      "\n",
      "-----1-----\n",
      "\n",
      "[[ 1  2  3  4]\n",
      " [ 5  6  7  8]\n",
      " [ 9 10 11 12]]\n",
      "\n",
      "-----2-----\n",
      "\n",
      "[5 6 7 8]\n",
      "\n",
      "-----3-----\n",
      "\n",
      "7\n",
      "\n",
      "-----4-----\n",
      "\n"
     ]
    }
   ],
   "source": [
    "# conda install numpy\n",
    "# or\n",
    "# pip install numpy\n",
    "\n",
    "# To access NumPy and its functions import it in your Python code like below.\n",
    "# We shorten the imported name to \"np\" for better readability of code\n",
    "import numpy as np \n",
    "\n",
    "a = np.array([[1, 2, 3, 4], [5, 6, 7, 8], [9, 10, 11, 12]])\n",
    "\n",
    "print('\\n-----1-----\\n')\n",
    "print(a)\n",
    "print('\\n-----2-----\\n')\n",
    "print(a[1])\n",
    "print('\\n-----3-----\\n')\n",
    "print(a[1][2])\n",
    "print('\\n-----4-----\\n')"
   ]
  },
  {
   "cell_type": "code",
   "execution_count": 4,
   "metadata": {},
   "outputs": [
    {
     "name": "stdout",
     "output_type": "stream",
     "text": [
      "[[0 0]\n",
      " [0 0]]\n",
      "\n",
      "-----5-----\n",
      "\n"
     ]
    }
   ],
   "source": [
    "# uninitialized empty array\n",
    "b = np.empty([2, 2], dtype=int)\n",
    "print(b)\n",
    "print('\\n-----5-----\\n')"
   ]
  },
  {
   "cell_type": "code",
   "execution_count": 6,
   "metadata": {
    "colab": {
     "base_uri": "https://localhost:8080/"
    },
    "executionInfo": {
     "elapsed": 249,
     "status": "ok",
     "timestamp": 1662663926249,
     "user": {
      "displayName": "Alireza Fazeli",
      "userId": "13019604121988176443"
     },
     "user_tz": 240
    },
    "id": "aiNcbzfCmle0",
    "outputId": "d48b448b-7474-4b04-ffb9-6750bb243b44"
   },
   "outputs": [
    {
     "name": "stdout",
     "output_type": "stream",
     "text": [
      "[[0 0]\n",
      " [0 0]]\n",
      "\n",
      "-----6-----\n",
      "\n",
      "(2, 2)\n",
      "\n",
      "-----7-----\n",
      "\n",
      "<class 'numpy.ndarray'>\n",
      "\n",
      "-----8-----\n",
      "\n",
      "[[ 1  2  3  4]\n",
      " [ 5  6  7  8]\n",
      " [ 9 10 11 12]]\n",
      "[[1. 1. 1. 1.]\n",
      " [1. 1. 1. 1.]\n",
      " [1. 1. 1. 1.]]\n",
      "[[ 2.  3.  4.  5.]\n",
      " [ 6.  7.  8.  9.]\n",
      " [10. 11. 12. 13.]]\n"
     ]
    }
   ],
   "source": [
    "# Initialized array\n",
    "b = np.zeros([2, 2], dtype=int)\n",
    "print(b)\n",
    "print('\\n-----6-----\\n')\n",
    "print(b.shape)\n",
    "print('\\n-----7-----\\n')\n",
    "print(type(b))\n",
    "\n",
    "# print(a+b) # gives error\n",
    "\n",
    "b = np.ones(a.shape)\n",
    "print('\\n-----8-----\\n')\n",
    "print(a)\n",
    "print(b)\n",
    "print(a+b)"
   ]
  },
  {
   "cell_type": "markdown",
   "metadata": {
    "id": "UldlnT-Qtvct"
   },
   "source": [
    "[Click here for a numpy cheat sheet](./Builtin/Material_02.pdf)"
   ]
  },
  {
   "cell_type": "markdown",
   "metadata": {
    "id": "xl86ZiQUuHHl"
   },
   "source": [
    "---\n",
    "# [pandas](https://pandas.pydata.org/)"
   ]
  },
  {
   "cell_type": "code",
   "execution_count": 8,
   "metadata": {},
   "outputs": [
    {
     "name": "stdout",
     "output_type": "stream",
     "text": [
      "-----1-----\n",
      "\n",
      "1.5.3\n",
      "        num_legs  num_wings\n",
      "falcon         2          2\n",
      "dog            4          0\n",
      "human          2          0\n"
     ]
    }
   ],
   "source": [
    "import pandas as pd\n",
    "\n",
    "print('-----1-----\\n')\n",
    "print(pd.__version__)\n",
    "\n",
    "df = pd.DataFrame({'num_legs': [2, 4, 2], 'num_wings': [2, 0, 0]}, index=['falcon', 'dog', 'human'])\n",
    "print(df)"
   ]
  },
  {
   "cell_type": "code",
   "execution_count": 9,
   "metadata": {},
   "outputs": [
    {
     "name": "stdout",
     "output_type": "stream",
     "text": [
      "-----2-----\n",
      "\n",
      "<class 'pandas.core.frame.DataFrame'>\n",
      "Index: 3 entries, falcon to human\n",
      "Data columns (total 2 columns):\n",
      " #   Column     Non-Null Count  Dtype\n",
      "---  ------     --------------  -----\n",
      " 0   num_legs   3 non-null      int64\n",
      " 1   num_wings  3 non-null      int64\n",
      "dtypes: int64(2)\n",
      "memory usage: 72.0+ bytes\n",
      "None\n"
     ]
    }
   ],
   "source": [
    "print('-----2-----\\n')\n",
    "print(df.info())"
   ]
  },
  {
   "cell_type": "code",
   "execution_count": 10,
   "metadata": {},
   "outputs": [
    {
     "name": "stdout",
     "output_type": "stream",
     "text": [
      "-----3-----\n",
      "\n",
      "        num_legs  num_wings\n",
      "falcon         2          2\n",
      "dog            4          0\n",
      "human          2          0\n"
     ]
    }
   ],
   "source": [
    "print('-----3-----\\n')\n",
    "print(df.head(n=10))"
   ]
  },
  {
   "cell_type": "code",
   "execution_count": 11,
   "metadata": {},
   "outputs": [
    {
     "name": "stdout",
     "output_type": "stream",
     "text": [
      "-----4-----\n",
      "\n",
      "       num_legs  num_wings\n",
      "human         2          0\n"
     ]
    }
   ],
   "source": [
    "print('-----4-----\\n')\n",
    "print(df.tail(n=1))"
   ]
  },
  {
   "cell_type": "code",
   "execution_count": 12,
   "metadata": {},
   "outputs": [
    {
     "name": "stdout",
     "output_type": "stream",
     "text": [
      "-----5-----\n",
      "\n",
      "falcon    4\n",
      "dog       4\n",
      "human     2\n",
      "dtype: int64\n"
     ]
    }
   ],
   "source": [
    "print('-----5-----\\n')\n",
    "print(df['num_legs']+df['num_wings'])"
   ]
  },
  {
   "cell_type": "code",
   "execution_count": 13,
   "metadata": {},
   "outputs": [
    {
     "name": "stdout",
     "output_type": "stream",
     "text": [
      "-----6-----\n",
      "\n",
      "num_legs     int64\n",
      "num_wings    int64\n",
      "dtype: object\n"
     ]
    }
   ],
   "source": [
    "print('-----6-----\\n')\n",
    "print(df.dtypes)"
   ]
  },
  {
   "cell_type": "code",
   "execution_count": null,
   "metadata": {
    "colab": {
     "base_uri": "https://localhost:8080/",
     "height": 925
    },
    "executionInfo": {
     "elapsed": 253,
     "status": "ok",
     "timestamp": 1662663996804,
     "user": {
      "displayName": "Alireza Fazeli",
      "userId": "13019604121988176443"
     },
     "user_tz": 240
    },
    "id": "jlOCTtouq8FC",
    "outputId": "45a0d07b-c5d4-418d-debe-40cfb1de826a"
   },
   "outputs": [],
   "source": [
    "print('\\n-----7-----\\n')\n",
    "data = np.array([(1, 2, 3), (4, 5, 6), (7, 8, 9)], dtype=[(\"a\", \"i4\"), (\"b\", \"i4\"), (\"c\", \"i4\")])\n",
    "df2 = pd.DataFrame(data, columns=['c', 'a'])\n",
    "df2.head()\n",
    "\n",
    "# can use \"astype\" to change type\n",
    "# df = df.astype({'c': 'int64', 'a': 'int64'})"
   ]
  },
  {
   "cell_type": "markdown",
   "metadata": {
    "id": "jU9Cw_UAuVXx"
   },
   "source": [
    "[Click here for a pandas cheat sheet](./Builtin/Material_03.pdf)\n",
    "\n",
    "[Click here for a nice pandas tutorial for data manipulation skills](https://www.kaggle.com/learn/pandas)"
   ]
  },
  {
   "cell_type": "markdown",
   "metadata": {},
   "source": [
    "---\n",
    "# In-class exercise: Code a soccer lineups generator for the coach\n",
    "\n",
    "Imagine you have been given a list of 22 soccer players along with their performance scores (PS) measured out of 11:\n",
    "\n",
    "|Player Name | PS|\n",
    "|---|---|\n",
    "|James|1|\n",
    "|Robert|2|\n",
    "|John|3|\n",
    "|Michael|4|\n",
    "|David|5|\n",
    "|William|6|\n",
    "|Richard|7|\n",
    "|Joseph|8|\n",
    "|Thomas|9|\n",
    "|Charles|10|\n",
    "|Christopher|11|\n",
    "|Mary|1|\n",
    "|Patricia|2|\n",
    "|Jennifer|3|\n",
    "|Linda|4|\n",
    "|Elizabeth|5|\n",
    "|Barbara|6|\n",
    "|Susan|7|\n",
    "|Jessica|8|\n",
    "|Sarah|9|\n",
    "|Karen|10|\n",
    "|Lisa|11|\n",
    "\n",
    "The coach wants you to develop a random roster generator that operates in a fair way. Meaning, upon every execution of your code, it must output two random lineups (each composed of 11 players) such that __no two players with the same performance scores fall in the same team__. For example, one output can be:\n",
    "\n",
    "|Team 1 | PS |Team 2 | PS |\n",
    "|-------|------|-------|------|\n",
    "|James      |1 |Mary       |1 |\n",
    "|Robert     |2 |Patricia   |2 |\n",
    "|John       |3 |Jennifer   |3 |\n",
    "|Michael    |4 |Linda      |4 |\n",
    "|David      |5 |Elizabeth  |5 |\n",
    "|William    |6 |Barbara    |6 |\n",
    "|Richard    |7 |Susan      |7 |\n",
    "|Joseph     |8 |Jessica    |8 |\n",
    "|Thomas     |9 |Sarah      |9 |\n",
    "|Charles    |10|Karen      |10|\n",
    "|Christopher|11|Lisa       |11|\n",
    "\n",
    "Or, another output can be:\n",
    "\n",
    "|Team 1 | PS |Team 2 | PS |\n",
    "|-------|------|-------|------|\n",
    "|James      |1 |Mary       |1 |\n",
    "|Patricia   |2 |Robert     |2 |\n",
    "|John       |3 |Jennifer   |3 |\n",
    "|Michael    |4 |Linda      |4 |\n",
    "|David      |5 |Elizabeth  |5 |\n",
    "|William    |6 |Barbara    |6 |\n",
    "|Richard    |7 |Susan      |7 |\n",
    "|Jessica    |8 |Joseph     |8 |\n",
    "|Thomas     |9 |Sarah      |9 |\n",
    "|Charles    |10|Karen      |10|\n",
    "|Christopher|11|Lisa       |11|\n",
    "\n",
    "Write three versions of your code each in a separate cell:\n",
    "1. Version 1 - Use sequence type __*list*__ for both storing original data and outputing lineups.\n",
    "2. Version 2 - Use sequence type __*tuple*__ for both storing original data and outputing lineups.\n",
    "3. Version 3 - Use __*pandas dataframe*__ for both storing original data and outputing lineups.\n",
    "   \n",
    "Caveats:\n",
    "1. Outputted lineups must show not only players names but also their corresponding Performance Scores.\n",
    "2. Your code is supposed to be a __random__ lineup generator meaning the suggested lineups of every execution of your code must be different from previous executions.\n",
    "3. Random does not mean unique, this is not a problem with infinite number of solutions."
   ]
  },
  {
   "cell_type": "markdown",
   "metadata": {},
   "source": [
    "---\n",
    "## Version 1 - Using sequence type list"
   ]
  },
  {
   "cell_type": "code",
   "execution_count": null,
   "metadata": {},
   "outputs": [],
   "source": [
    "import random\n",
    "# pip install tabulate\n",
    "from tabulate import tabulate\n",
    "\n",
    "original_data = [['James',1],['Robert',2],['John',3],['Michael',4],['David',5],['William',6],['Richard',7],\n",
    "          ['Joseph',8], ['Thomas',9],['Charles',10],['Christopher',11],['Mary',1],['Patricia',2],['Jennifer',3],['Linda',4],\n",
    "          ['Elizabeth',5],['Barbara',6],['Susan',7],['Jessica',8],['Sarah',9],['Karen',10],['Lisa',11]]\n",
    "\n",
    "print ('The type of original data is', type(original_data) )\n",
    "\n",
    "ppl = len(original_data)\n",
    "team_1 = []\n",
    "team_2 = []\n",
    "\n",
    "for i in random.sample(range(ppl),ppl):\n",
    "  if original_data[i][1] in [x[1] for x in team_1]:\n",
    "    team_2.append(original_data[i])\n",
    "  else:\n",
    "    team_1.append(original_data[i])\n",
    "\n",
    "output = [team_1.sort (key = lambda x:x[1]),team_2.sort (key = lambda x:x[1])]\n",
    "print('The type of lineups is ',type(output))\n",
    "print(tabulate({'Team 1': team_1,'Team 2': team_2}, headers=\"keys\"))"
   ]
  },
  {
   "cell_type": "markdown",
   "metadata": {},
   "source": [
    "---\n",
    "## Version 2 - Using sequence type tuple"
   ]
  },
  {
   "cell_type": "code",
   "execution_count": null,
   "metadata": {},
   "outputs": [],
   "source": [
    "import random\n",
    "from tabulate import tabulate\n",
    "\n",
    "original_data = (('James',1),('Robert',2),('John',3),('Michael',4),('David',5),('William',6),('Richard',7),\n",
    "          ('Joseph',8), ('Thomas',9),('Charles',10),('Christopher',11),('Mary',1),('Patricia',2),('Jennifer',3),('Linda',4),\n",
    "          ('Elizabeth',5),('Barbara',6),('Susan',7),('Jessica',8),('Sarah',9),('Karen',10),('Lisa',11))\n",
    "\n",
    "print ('The type of original data is', type(original_data))\n",
    "\n",
    "#data = sorted(original_data, key = lambda x :x[1])\n",
    "ppl = len(original_data)\n",
    "team_1 = ()\n",
    "team_2 = ()\n",
    "\n",
    "for i in random.sample(range(ppl),ppl):\n",
    "  if original_data[i][1] in [x[1] for x in team_1]:\n",
    "    team_2 = (original_data[i],) + team_2\n",
    "  else:\n",
    "    team_1 = (original_data[i],) + team_1\n",
    "\n",
    "team_1, team_2 = (sorted(team_1, key = lambda x :x[1]), sorted(team_2, key = lambda x :x[1]))\n",
    "output = team_1, team_2\n",
    "print('The type of lineups is ',type(output))\n",
    "print(tabulate({'Team 1': team_1, 'Team 2': team_2}, headers=\"keys\"))"
   ]
  },
  {
   "cell_type": "markdown",
   "metadata": {},
   "source": [
    "---\n",
    "## Version 3 - Using pandas dataframe"
   ]
  },
  {
   "cell_type": "code",
   "execution_count": null,
   "metadata": {},
   "outputs": [],
   "source": [
    "import pandas as pd\n",
    "\n",
    "original_data = pd.DataFrame([['James',1],['Robert',2],['John',3],['Michael',4],['David',5],['William',6],['Richard',7],\n",
    "          ['Joseph',8], ['Thomas',9],['Charles',10],['Christopher',11],['Mary',1],['Patricia',2],['Jennifer',3],['Linda',4],\n",
    "          ['Elizabeth',5],['Barbara',6],['Susan',7],['Jessica',8],['Sarah',9],['Karen',10],['Lisa',11]], columns= ['Player','Performance'])\n",
    "\n",
    "print ('The type of original data is', type(original_data))\n",
    "\n",
    "team_1 = original_data.groupby('Performance').sample(n=1).sort_values(by=['Performance']).reset_index(drop=True)\n",
    "team_2 = original_data[~original_data['Player'].isin(team_1['Player'])].sort_values(by=['Performance']).reset_index(drop=True)\n",
    "\n",
    "output = pd.concat([team_1, team_2.reindex(team_1.index)], axis=1)\n",
    "print('The type of lineups is ',type(output))\n",
    "\n",
    "print (output)"
   ]
  },
  {
   "cell_type": "markdown",
   "metadata": {},
   "source": [
    "---"
   ]
  }
 ],
 "metadata": {
  "colab": {
   "authorship_tag": "ABX9TyPXn0XWUZFsRxCXR/00/gWk",
   "collapsed_sections": [],
   "provenance": [],
   "toc_visible": true
  },
  "kernelspec": {
   "display_name": "Python 3 (ipykernel)",
   "language": "python",
   "name": "python3"
  },
  "language_info": {
   "codemirror_mode": {
    "name": "ipython",
    "version": 3
   },
   "file_extension": ".py",
   "mimetype": "text/x-python",
   "name": "python",
   "nbconvert_exporter": "python",
   "pygments_lexer": "ipython3",
   "version": "3.11.4"
  }
 },
 "nbformat": 4,
 "nbformat_minor": 1
}
