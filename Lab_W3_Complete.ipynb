{
 "cells": [
  {
   "cell_type": "code",
   "execution_count": null,
   "metadata": {
    "colab": {
     "base_uri": "https://localhost:8080/"
    },
    "id": "iWl6UGG-vlY0",
    "outputId": "a444acfb-9f22-4382-d9f4-6905dcc5b5c6"
   },
   "outputs": [
    {
     "name": "stdout",
     "output_type": "stream",
     "text": [
      "Requirement already satisfied: latexify-py in /usr/local/lib/python3.10/dist-packages (0.4.2)\n",
      "Requirement already satisfied: dill>=0.3.2 in /usr/local/lib/python3.10/dist-packages (from latexify-py) (0.3.7)\n"
     ]
    }
   ],
   "source": [
    "# If you do not have the \"latexify\" package already installed,\n",
    "# you can install it by uncommenting the next line.\n",
    "# !pip install latexify-py\n",
    "import latexify\n",
    "import math\n",
    "import numpy as np\n",
    "import pandas as pd\n",
    "import seaborn as sns\n",
    "import matplotlib.pyplot as plt\n",
    "import scipy.optimize as so\n",
    "seed = 0\n",
    "np.random.seed(seed)"
   ]
  },
  {
   "cell_type": "markdown",
   "metadata": {
    "id": "xexSEJ9CO-ye"
   },
   "source": [
    "## Load the data and take a sneak peek"
   ]
  },
  {
   "cell_type": "code",
   "execution_count": null,
   "metadata": {
    "colab": {
     "base_uri": "https://localhost:8080/",
     "height": 206
    },
    "id": "H8CYfQH-O-ye",
    "outputId": "0b2b0d02-acaf-431e-c589-b5ad335c8c52"
   },
   "outputs": [
    {
     "data": {
      "text/html": [
       "\n",
       "  <div id=\"df-c49288bb-d1c1-40ba-8532-a5136ddd9fbd\" class=\"colab-df-container\">\n",
       "    <div>\n",
       "<style scoped>\n",
       "    .dataframe tbody tr th:only-of-type {\n",
       "        vertical-align: middle;\n",
       "    }\n",
       "\n",
       "    .dataframe tbody tr th {\n",
       "        vertical-align: top;\n",
       "    }\n",
       "\n",
       "    .dataframe thead th {\n",
       "        text-align: right;\n",
       "    }\n",
       "</style>\n",
       "<table border=\"1\" class=\"dataframe\">\n",
       "  <thead>\n",
       "    <tr style=\"text-align: right;\">\n",
       "      <th></th>\n",
       "      <th>age</th>\n",
       "      <th>pace</th>\n",
       "    </tr>\n",
       "  </thead>\n",
       "  <tbody>\n",
       "    <tr>\n",
       "      <th>0</th>\n",
       "      <td>38</td>\n",
       "      <td>3.73</td>\n",
       "    </tr>\n",
       "    <tr>\n",
       "      <th>1</th>\n",
       "      <td>75</td>\n",
       "      <td>7.53</td>\n",
       "    </tr>\n",
       "    <tr>\n",
       "      <th>2</th>\n",
       "      <td>35</td>\n",
       "      <td>4.73</td>\n",
       "    </tr>\n",
       "    <tr>\n",
       "      <th>3</th>\n",
       "      <td>27</td>\n",
       "      <td>4.26</td>\n",
       "    </tr>\n",
       "    <tr>\n",
       "      <th>4</th>\n",
       "      <td>54</td>\n",
       "      <td>5.40</td>\n",
       "    </tr>\n",
       "  </tbody>\n",
       "</table>\n",
       "</div>\n",
       "    <div class=\"colab-df-buttons\">\n",
       "\n",
       "  <div class=\"colab-df-container\">\n",
       "    <button class=\"colab-df-convert\" onclick=\"convertToInteractive('df-c49288bb-d1c1-40ba-8532-a5136ddd9fbd')\"\n",
       "            title=\"Convert this dataframe to an interactive table.\"\n",
       "            style=\"display:none;\">\n",
       "\n",
       "  <svg xmlns=\"http://www.w3.org/2000/svg\" height=\"24px\" viewBox=\"0 -960 960 960\">\n",
       "    <path d=\"M120-120v-720h720v720H120Zm60-500h600v-160H180v160Zm220 220h160v-160H400v160Zm0 220h160v-160H400v160ZM180-400h160v-160H180v160Zm440 0h160v-160H620v160ZM180-180h160v-160H180v160Zm440 0h160v-160H620v160Z\"/>\n",
       "  </svg>\n",
       "    </button>\n",
       "\n",
       "  <style>\n",
       "    .colab-df-container {\n",
       "      display:flex;\n",
       "      gap: 12px;\n",
       "    }\n",
       "\n",
       "    .colab-df-convert {\n",
       "      background-color: #E8F0FE;\n",
       "      border: none;\n",
       "      border-radius: 50%;\n",
       "      cursor: pointer;\n",
       "      display: none;\n",
       "      fill: #1967D2;\n",
       "      height: 32px;\n",
       "      padding: 0 0 0 0;\n",
       "      width: 32px;\n",
       "    }\n",
       "\n",
       "    .colab-df-convert:hover {\n",
       "      background-color: #E2EBFA;\n",
       "      box-shadow: 0px 1px 2px rgba(60, 64, 67, 0.3), 0px 1px 3px 1px rgba(60, 64, 67, 0.15);\n",
       "      fill: #174EA6;\n",
       "    }\n",
       "\n",
       "    .colab-df-buttons div {\n",
       "      margin-bottom: 4px;\n",
       "    }\n",
       "\n",
       "    [theme=dark] .colab-df-convert {\n",
       "      background-color: #3B4455;\n",
       "      fill: #D2E3FC;\n",
       "    }\n",
       "\n",
       "    [theme=dark] .colab-df-convert:hover {\n",
       "      background-color: #434B5C;\n",
       "      box-shadow: 0px 1px 3px 1px rgba(0, 0, 0, 0.15);\n",
       "      filter: drop-shadow(0px 1px 2px rgba(0, 0, 0, 0.3));\n",
       "      fill: #FFFFFF;\n",
       "    }\n",
       "  </style>\n",
       "\n",
       "    <script>\n",
       "      const buttonEl =\n",
       "        document.querySelector('#df-c49288bb-d1c1-40ba-8532-a5136ddd9fbd button.colab-df-convert');\n",
       "      buttonEl.style.display =\n",
       "        google.colab.kernel.accessAllowed ? 'block' : 'none';\n",
       "\n",
       "      async function convertToInteractive(key) {\n",
       "        const element = document.querySelector('#df-c49288bb-d1c1-40ba-8532-a5136ddd9fbd');\n",
       "        const dataTable =\n",
       "          await google.colab.kernel.invokeFunction('convertToInteractive',\n",
       "                                                    [key], {});\n",
       "        if (!dataTable) return;\n",
       "\n",
       "        const docLinkHtml = 'Like what you see? Visit the ' +\n",
       "          '<a target=\"_blank\" href=https://colab.research.google.com/notebooks/data_table.ipynb>data table notebook</a>'\n",
       "          + ' to learn more about interactive tables.';\n",
       "        element.innerHTML = '';\n",
       "        dataTable['output_type'] = 'display_data';\n",
       "        await google.colab.output.renderOutput(dataTable, element);\n",
       "        const docLink = document.createElement('div');\n",
       "        docLink.innerHTML = docLinkHtml;\n",
       "        element.appendChild(docLink);\n",
       "      }\n",
       "    </script>\n",
       "  </div>\n",
       "\n",
       "\n",
       "<div id=\"df-2c50c13c-f636-4464-966d-34c7a4a961dd\">\n",
       "  <button class=\"colab-df-quickchart\" onclick=\"quickchart('df-2c50c13c-f636-4464-966d-34c7a4a961dd')\"\n",
       "            title=\"Suggest charts\"\n",
       "            style=\"display:none;\">\n",
       "\n",
       "<svg xmlns=\"http://www.w3.org/2000/svg\" height=\"24px\"viewBox=\"0 0 24 24\"\n",
       "     width=\"24px\">\n",
       "    <g>\n",
       "        <path d=\"M19 3H5c-1.1 0-2 .9-2 2v14c0 1.1.9 2 2 2h14c1.1 0 2-.9 2-2V5c0-1.1-.9-2-2-2zM9 17H7v-7h2v7zm4 0h-2V7h2v10zm4 0h-2v-4h2v4z\"/>\n",
       "    </g>\n",
       "</svg>\n",
       "  </button>\n",
       "\n",
       "<style>\n",
       "  .colab-df-quickchart {\n",
       "      --bg-color: #E8F0FE;\n",
       "      --fill-color: #1967D2;\n",
       "      --hover-bg-color: #E2EBFA;\n",
       "      --hover-fill-color: #174EA6;\n",
       "      --disabled-fill-color: #AAA;\n",
       "      --disabled-bg-color: #DDD;\n",
       "  }\n",
       "\n",
       "  [theme=dark] .colab-df-quickchart {\n",
       "      --bg-color: #3B4455;\n",
       "      --fill-color: #D2E3FC;\n",
       "      --hover-bg-color: #434B5C;\n",
       "      --hover-fill-color: #FFFFFF;\n",
       "      --disabled-bg-color: #3B4455;\n",
       "      --disabled-fill-color: #666;\n",
       "  }\n",
       "\n",
       "  .colab-df-quickchart {\n",
       "    background-color: var(--bg-color);\n",
       "    border: none;\n",
       "    border-radius: 50%;\n",
       "    cursor: pointer;\n",
       "    display: none;\n",
       "    fill: var(--fill-color);\n",
       "    height: 32px;\n",
       "    padding: 0;\n",
       "    width: 32px;\n",
       "  }\n",
       "\n",
       "  .colab-df-quickchart:hover {\n",
       "    background-color: var(--hover-bg-color);\n",
       "    box-shadow: 0 1px 2px rgba(60, 64, 67, 0.3), 0 1px 3px 1px rgba(60, 64, 67, 0.15);\n",
       "    fill: var(--button-hover-fill-color);\n",
       "  }\n",
       "\n",
       "  .colab-df-quickchart-complete:disabled,\n",
       "  .colab-df-quickchart-complete:disabled:hover {\n",
       "    background-color: var(--disabled-bg-color);\n",
       "    fill: var(--disabled-fill-color);\n",
       "    box-shadow: none;\n",
       "  }\n",
       "\n",
       "  .colab-df-spinner {\n",
       "    border: 2px solid var(--fill-color);\n",
       "    border-color: transparent;\n",
       "    border-bottom-color: var(--fill-color);\n",
       "    animation:\n",
       "      spin 1s steps(1) infinite;\n",
       "  }\n",
       "\n",
       "  @keyframes spin {\n",
       "    0% {\n",
       "      border-color: transparent;\n",
       "      border-bottom-color: var(--fill-color);\n",
       "      border-left-color: var(--fill-color);\n",
       "    }\n",
       "    20% {\n",
       "      border-color: transparent;\n",
       "      border-left-color: var(--fill-color);\n",
       "      border-top-color: var(--fill-color);\n",
       "    }\n",
       "    30% {\n",
       "      border-color: transparent;\n",
       "      border-left-color: var(--fill-color);\n",
       "      border-top-color: var(--fill-color);\n",
       "      border-right-color: var(--fill-color);\n",
       "    }\n",
       "    40% {\n",
       "      border-color: transparent;\n",
       "      border-right-color: var(--fill-color);\n",
       "      border-top-color: var(--fill-color);\n",
       "    }\n",
       "    60% {\n",
       "      border-color: transparent;\n",
       "      border-right-color: var(--fill-color);\n",
       "    }\n",
       "    80% {\n",
       "      border-color: transparent;\n",
       "      border-right-color: var(--fill-color);\n",
       "      border-bottom-color: var(--fill-color);\n",
       "    }\n",
       "    90% {\n",
       "      border-color: transparent;\n",
       "      border-bottom-color: var(--fill-color);\n",
       "    }\n",
       "  }\n",
       "</style>\n",
       "\n",
       "  <script>\n",
       "    async function quickchart(key) {\n",
       "      const quickchartButtonEl =\n",
       "        document.querySelector('#' + key + ' button');\n",
       "      quickchartButtonEl.disabled = true;  // To prevent multiple clicks.\n",
       "      quickchartButtonEl.classList.add('colab-df-spinner');\n",
       "      try {\n",
       "        const charts = await google.colab.kernel.invokeFunction(\n",
       "            'suggestCharts', [key], {});\n",
       "      } catch (error) {\n",
       "        console.error('Error during call to suggestCharts:', error);\n",
       "      }\n",
       "      quickchartButtonEl.classList.remove('colab-df-spinner');\n",
       "      quickchartButtonEl.classList.add('colab-df-quickchart-complete');\n",
       "    }\n",
       "    (() => {\n",
       "      let quickchartButtonEl =\n",
       "        document.querySelector('#df-2c50c13c-f636-4464-966d-34c7a4a961dd button');\n",
       "      quickchartButtonEl.style.display =\n",
       "        google.colab.kernel.accessAllowed ? 'block' : 'none';\n",
       "    })();\n",
       "  </script>\n",
       "</div>\n",
       "\n",
       "    </div>\n",
       "  </div>\n"
      ],
      "text/plain": [
       "   age  pace\n",
       "0   38  3.73\n",
       "1   75  7.53\n",
       "2   35  4.73\n",
       "3   27  4.26\n",
       "4   54  5.40"
      ]
     },
     "execution_count": 76,
     "metadata": {},
     "output_type": "execute_result"
    }
   ],
   "source": [
    "filename=\"Lab_W3_Data.csv\"\n",
    "data = pd.read_csv(filename).drop(\"Unnamed: 0\", axis=1) # Loading the running speed dataset. \"age\" is in [yrs] and \"pace\" in [min/km]\n",
    "data.head()"
   ]
  },
  {
   "cell_type": "markdown",
   "metadata": {
    "id": "viJumFUVO-yf"
   },
   "source": [
    "## 1D Distribution Plots"
   ]
  },
  {
   "cell_type": "markdown",
   "metadata": {
    "id": "ra0wqHq9O-yf"
   },
   "source": [
    "A histogram aims to approximate the underlying probability density function that generated the data by binning and counting observations."
   ]
  },
  {
   "cell_type": "code",
   "execution_count": null,
   "metadata": {
    "colab": {
     "base_uri": "https://localhost:8080/",
     "height": 507
    },
    "id": "v1OcTFYgO-yg",
    "outputId": "41d34bbd-80e2-4085-a2d6-ebc1ef875fd0"
   },
   "outputs": [
    {
     "data": {
      "image/png": "[encoded data removed]",
      "text/plain": [
       "<Figure size 500x500 with 1 Axes>"
      ]
     },
     "metadata": {},
     "output_type": "display_data"
    }
   ],
   "source": [
    "# Histogram\n",
    "sns.displot(data.age, kde=False)\n",
    "plt.show()"
   ]
  },
  {
   "cell_type": "markdown",
   "metadata": {
    "id": "GsgJ-EWJO-yg"
   },
   "source": [
    "Kernel density estimation (KDE) presents a different solution to what histogram does. Rather than using discrete bins, a KDE plot smooths the observations with a Gaussian kernel, producing a continuous density estimate"
   ]
  },
  {
   "cell_type": "code",
   "execution_count": null,
   "metadata": {
    "colab": {
     "base_uri": "https://localhost:8080/",
     "height": 507
    },
    "id": "OLXyPSRPO-yg",
    "outputId": "f89147ee-b34a-4dc7-e725-5fb04174bbc4"
   },
   "outputs": [
    {
     "data": {
      "image/png": "[encoded data removed]",
      "text/plain": [
       "<Figure size 500x500 with 1 Axes>"
      ]
     },
     "metadata": {},
     "output_type": "display_data"
    }
   ],
   "source": [
    "# Histogram and Density\n",
    "sns.displot(data.age, kde=True)\n",
    "plt.show()"
   ]
  },
  {
   "cell_type": "code",
   "execution_count": null,
   "metadata": {
    "colab": {
     "base_uri": "https://localhost:8080/",
     "height": 506
    },
    "id": "QtGVVLaOO-yh",
    "outputId": "f806f5a1-0255-4aaa-8de7-5ec55351d9ea"
   },
   "outputs": [
    {
     "data": {
      "image/png": "[encoded data removed]",
      "text/plain": [
       "<Figure size 500x500 with 1 Axes>"
      ]
     },
     "metadata": {},
     "output_type": "display_data"
    }
   ],
   "source": [
    "# Histogram and Density - specify # bins\n",
    "sns.displot(data.age, bins = 15, kde=True)\n",
    "plt.show()"
   ]
  },
  {
   "cell_type": "markdown",
   "metadata": {
    "id": "pW64-uhKO-yh"
   },
   "source": [
    "## 2D Joint Plots"
   ]
  },
  {
   "cell_type": "code",
   "execution_count": null,
   "metadata": {
    "colab": {
     "base_uri": "https://localhost:8080/",
     "height": 607
    },
    "id": "xx-bpZroO-yh",
    "outputId": "4de0edc5-5fa4-42cb-ad0b-9e2ab8236b76"
   },
   "outputs": [
    {
     "data": {
      "image/png": "[encoded data removed]",
      "text/plain": [
       "<Figure size 600x600 with 3 Axes>"
      ]
     },
     "metadata": {},
     "output_type": "display_data"
    }
   ],
   "source": [
    "# Joint distribution plot\n",
    "sns.jointplot(x=\"age\", y=\"pace\", data=data)\n",
    "plt.show()"
   ]
  },
  {
   "cell_type": "code",
   "execution_count": null,
   "metadata": {
    "colab": {
     "base_uri": "https://localhost:8080/",
     "height": 607
    },
    "id": "FT9omAktO-yi",
    "outputId": "cd4ce21b-8312-474c-d209-e8d0f40cc496"
   },
   "outputs": [
    {
     "data": {
      "image/png": "[encoded data removed]",
      "text/plain": [
       "<Figure size 600x600 with 3 Axes>"
      ]
     },
     "metadata": {},
     "output_type": "display_data"
    }
   ],
   "source": [
    "# Joint distribution plot with estimated density\n",
    "sns.jointplot(x=\"age\", y=\"pace\", fill=True, cmap=\"Reds\", data=data, kind=\"kde\")\n",
    "plt.show()"
   ]
  },
  {
   "cell_type": "code",
   "execution_count": null,
   "metadata": {
    "colab": {
     "base_uri": "https://localhost:8080/",
     "height": 607
    },
    "id": "tXJT6NdYO-yi",
    "outputId": "131eeead-3990-4aaf-c2b6-1b938f57c0d6"
   },
   "outputs": [
    {
     "data": {
      "image/png": "[encoded data removed]",
      "text/plain": [
       "<Figure size 600x600 with 3 Axes>"
      ]
     },
     "metadata": {},
     "output_type": "display_data"
    }
   ],
   "source": [
    "# Joint distribution plot with regression line\n",
    "sns.jointplot(x=\"age\", y=\"pace\", data=data, kind=\"reg\") # adding ordinary least square regression line\n",
    "plt.show()"
   ]
  },
  {
   "cell_type": "code",
   "execution_count": null,
   "metadata": {
    "colab": {
     "base_uri": "https://localhost:8080/",
     "height": 607
    },
    "id": "Kw-69NfPO-yi",
    "outputId": "77112ce0-7bd6-4dc0-db57-7259770b17f7"
   },
   "outputs": [
    {
     "data": {
      "image/png": "[encoded data removed]",
      "text/plain": [
       "<Figure size 600x600 with 3 Axes>"
      ]
     },
     "metadata": {},
     "output_type": "display_data"
    }
   ],
   "source": [
    "# Joint distribution plot with hexagons\n",
    "sns.jointplot(x=\"age\", y=\"pace\", data=data, kind=\"hex\")\n",
    "plt.show()"
   ]
  },
  {
   "cell_type": "markdown",
   "metadata": {
    "id": "wdochDfMO-yi"
   },
   "source": [
    "Please peruse [Visualizing Distributions of Data](https://seaborn.pydata.org/tutorial/distributions.html#), and try your hands on different options you see in there."
   ]
  },
  {
   "cell_type": "markdown",
   "metadata": {
    "id": "VNu-7iQ2vlY4"
   },
   "source": [
    "## Maximum Likelihood Example - Laplace Distribution"
   ]
  },
  {
   "cell_type": "code",
   "execution_count": null,
   "metadata": {
    "colab": {
     "base_uri": "https://localhost:8080/",
     "height": 206
    },
    "id": "8g4vc_ghvlY5",
    "outputId": "d9826f49-1ae2-43a3-d9f6-6ec7962222b0"
   },
   "outputs": [
    {
     "data": {
      "text/html": [
       "\n",
       "  <div id=\"df-71a6d27e-1ef5-4567-9d67-65a0a91680c9\" class=\"colab-df-container\">\n",
       "    <div>\n",
       "<style scoped>\n",
       "    .dataframe tbody tr th:only-of-type {\n",
       "        vertical-align: middle;\n",
       "    }\n",
       "\n",
       "    .dataframe tbody tr th {\n",
       "        vertical-align: top;\n",
       "    }\n",
       "\n",
       "    .dataframe thead th {\n",
       "        text-align: right;\n",
       "    }\n",
       "</style>\n",
       "<table border=\"1\" class=\"dataframe\">\n",
       "  <thead>\n",
       "    <tr style=\"text-align: right;\">\n",
       "      <th></th>\n",
       "      <th>NormalData</th>\n",
       "      <th>LaplaceData</th>\n",
       "    </tr>\n",
       "  </thead>\n",
       "  <tbody>\n",
       "    <tr>\n",
       "      <th>9996</th>\n",
       "      <td>0.042359</td>\n",
       "      <td>-0.203818</td>\n",
       "    </tr>\n",
       "    <tr>\n",
       "      <th>9997</th>\n",
       "      <td>0.516872</td>\n",
       "      <td>0.070830</td>\n",
       "    </tr>\n",
       "    <tr>\n",
       "      <th>9998</th>\n",
       "      <td>-0.032921</td>\n",
       "      <td>-0.118174</td>\n",
       "    </tr>\n",
       "    <tr>\n",
       "      <th>9999</th>\n",
       "      <td>1.298111</td>\n",
       "      <td>-1.406202</td>\n",
       "    </tr>\n",
       "    <tr>\n",
       "      <th>10000</th>\n",
       "      <td>-0.202117</td>\n",
       "      <td>0.418847</td>\n",
       "    </tr>\n",
       "  </tbody>\n",
       "</table>\n",
       "</div>\n",
       "    <div class=\"colab-df-buttons\">\n",
       "\n",
       "  <div class=\"colab-df-container\">\n",
       "    <button class=\"colab-df-convert\" onclick=\"convertToInteractive('df-71a6d27e-1ef5-4567-9d67-65a0a91680c9')\"\n",
       "            title=\"Convert this dataframe to an interactive table.\"\n",
       "            style=\"display:none;\">\n",
       "\n",
       "  <svg xmlns=\"http://www.w3.org/2000/svg\" height=\"24px\" viewBox=\"0 -960 960 960\">\n",
       "    <path d=\"M120-120v-720h720v720H120Zm60-500h600v-160H180v160Zm220 220h160v-160H400v160Zm0 220h160v-160H400v160ZM180-400h160v-160H180v160Zm440 0h160v-160H620v160ZM180-180h160v-160H180v160Zm440 0h160v-160H620v160Z\"/>\n",
       "  </svg>\n",
       "    </button>\n",
       "\n",
       "  <style>\n",
       "    .colab-df-container {\n",
       "      display:flex;\n",
       "      gap: 12px;\n",
       "    }\n",
       "\n",
       "    .colab-df-convert {\n",
       "      background-color: #E8F0FE;\n",
       "      border: none;\n",
       "      border-radius: 50%;\n",
       "      cursor: pointer;\n",
       "      display: none;\n",
       "      fill: #1967D2;\n",
       "      height: 32px;\n",
       "      padding: 0 0 0 0;\n",
       "      width: 32px;\n",
       "    }\n",
       "\n",
       "    .colab-df-convert:hover {\n",
       "      background-color: #E2EBFA;\n",
       "      box-shadow: 0px 1px 2px rgba(60, 64, 67, 0.3), 0px 1px 3px 1px rgba(60, 64, 67, 0.15);\n",
       "      fill: #174EA6;\n",
       "    }\n",
       "\n",
       "    .colab-df-buttons div {\n",
       "      margin-bottom: 4px;\n",
       "    }\n",
       "\n",
       "    [theme=dark] .colab-df-convert {\n",
       "      background-color: #3B4455;\n",
       "      fill: #D2E3FC;\n",
       "    }\n",
       "\n",
       "    [theme=dark] .colab-df-convert:hover {\n",
       "      background-color: #434B5C;\n",
       "      box-shadow: 0px 1px 3px 1px rgba(0, 0, 0, 0.15);\n",
       "      filter: drop-shadow(0px 1px 2px rgba(0, 0, 0, 0.3));\n",
       "      fill: #FFFFFF;\n",
       "    }\n",
       "  </style>\n",
       "\n",
       "    <script>\n",
       "      const buttonEl =\n",
       "        document.querySelector('#df-71a6d27e-1ef5-4567-9d67-65a0a91680c9 button.colab-df-convert');\n",
       "      buttonEl.style.display =\n",
       "        google.colab.kernel.accessAllowed ? 'block' : 'none';\n",
       "\n",
       "      async function convertToInteractive(key) {\n",
       "        const element = document.querySelector('#df-71a6d27e-1ef5-4567-9d67-65a0a91680c9');\n",
       "        const dataTable =\n",
       "          await google.colab.kernel.invokeFunction('convertToInteractive',\n",
       "                                                    [key], {});\n",
       "        if (!dataTable) return;\n",
       "\n",
       "        const docLinkHtml = 'Like what you see? Visit the ' +\n",
       "          '<a target=\"_blank\" href=https://colab.research.google.com/notebooks/data_table.ipynb>data table notebook</a>'\n",
       "          + ' to learn more about interactive tables.';\n",
       "        element.innerHTML = '';\n",
       "        dataTable['output_type'] = 'display_data';\n",
       "        await google.colab.output.renderOutput(dataTable, element);\n",
       "        const docLink = document.createElement('div');\n",
       "        docLink.innerHTML = docLinkHtml;\n",
       "        element.appendChild(docLink);\n",
       "      }\n",
       "    </script>\n",
       "  </div>\n",
       "\n",
       "\n",
       "<div id=\"df-26eee9aa-32d8-4b6c-99b5-8876b39ce219\">\n",
       "  <button class=\"colab-df-quickchart\" onclick=\"quickchart('df-26eee9aa-32d8-4b6c-99b5-8876b39ce219')\"\n",
       "            title=\"Suggest charts\"\n",
       "            style=\"display:none;\">\n",
       "\n",
       "<svg xmlns=\"http://www.w3.org/2000/svg\" height=\"24px\"viewBox=\"0 0 24 24\"\n",
       "     width=\"24px\">\n",
       "    <g>\n",
       "        <path d=\"M19 3H5c-1.1 0-2 .9-2 2v14c0 1.1.9 2 2 2h14c1.1 0 2-.9 2-2V5c0-1.1-.9-2-2-2zM9 17H7v-7h2v7zm4 0h-2V7h2v10zm4 0h-2v-4h2v4z\"/>\n",
       "    </g>\n",
       "</svg>\n",
       "  </button>\n",
       "\n",
       "<style>\n",
       "  .colab-df-quickchart {\n",
       "      --bg-color: #E8F0FE;\n",
       "      --fill-color: #1967D2;\n",
       "      --hover-bg-color: #E2EBFA;\n",
       "      --hover-fill-color: #174EA6;\n",
       "      --disabled-fill-color: #AAA;\n",
       "      --disabled-bg-color: #DDD;\n",
       "  }\n",
       "\n",
       "  [theme=dark] .colab-df-quickchart {\n",
       "      --bg-color: #3B4455;\n",
       "      --fill-color: #D2E3FC;\n",
       "      --hover-bg-color: #434B5C;\n",
       "      --hover-fill-color: #FFFFFF;\n",
       "      --disabled-bg-color: #3B4455;\n",
       "      --disabled-fill-color: #666;\n",
       "  }\n",
       "\n",
       "  .colab-df-quickchart {\n",
       "    background-color: var(--bg-color);\n",
       "    border: none;\n",
       "    border-radius: 50%;\n",
       "    cursor: pointer;\n",
       "    display: none;\n",
       "    fill: var(--fill-color);\n",
       "    height: 32px;\n",
       "    padding: 0;\n",
       "    width: 32px;\n",
       "  }\n",
       "\n",
       "  .colab-df-quickchart:hover {\n",
       "    background-color: var(--hover-bg-color);\n",
       "    box-shadow: 0 1px 2px rgba(60, 64, 67, 0.3), 0 1px 3px 1px rgba(60, 64, 67, 0.15);\n",
       "    fill: var(--button-hover-fill-color);\n",
       "  }\n",
       "\n",
       "  .colab-df-quickchart-complete:disabled,\n",
       "  .colab-df-quickchart-complete:disabled:hover {\n",
       "    background-color: var(--disabled-bg-color);\n",
       "    fill: var(--disabled-fill-color);\n",
       "    box-shadow: none;\n",
       "  }\n",
       "\n",
       "  .colab-df-spinner {\n",
       "    border: 2px solid var(--fill-color);\n",
       "    border-color: transparent;\n",
       "    border-bottom-color: var(--fill-color);\n",
       "    animation:\n",
       "      spin 1s steps(1) infinite;\n",
       "  }\n",
       "\n",
       "  @keyframes spin {\n",
       "    0% {\n",
       "      border-color: transparent;\n",
       "      border-bottom-color: var(--fill-color);\n",
       "      border-left-color: var(--fill-color);\n",
       "    }\n",
       "    20% {\n",
       "      border-color: transparent;\n",
       "      border-left-color: var(--fill-color);\n",
       "      border-top-color: var(--fill-color);\n",
       "    }\n",
       "    30% {\n",
       "      border-color: transparent;\n",
       "      border-left-color: var(--fill-color);\n",
       "      border-top-color: var(--fill-color);\n",
       "      border-right-color: var(--fill-color);\n",
       "    }\n",
       "    40% {\n",
       "      border-color: transparent;\n",
       "      border-right-color: var(--fill-color);\n",
       "      border-top-color: var(--fill-color);\n",
       "    }\n",
       "    60% {\n",
       "      border-color: transparent;\n",
       "      border-right-color: var(--fill-color);\n",
       "    }\n",
       "    80% {\n",
       "      border-color: transparent;\n",
       "      border-right-color: var(--fill-color);\n",
       "      border-bottom-color: var(--fill-color);\n",
       "    }\n",
       "    90% {\n",
       "      border-color: transparent;\n",
       "      border-bottom-color: var(--fill-color);\n",
       "    }\n",
       "  }\n",
       "</style>\n",
       "\n",
       "  <script>\n",
       "    async function quickchart(key) {\n",
       "      const quickchartButtonEl =\n",
       "        document.querySelector('#' + key + ' button');\n",
       "      quickchartButtonEl.disabled = true;  // To prevent multiple clicks.\n",
       "      quickchartButtonEl.classList.add('colab-df-spinner');\n",
       "      try {\n",
       "        const charts = await google.colab.kernel.invokeFunction(\n",
       "            'suggestCharts', [key], {});\n",
       "      } catch (error) {\n",
       "        console.error('Error during call to suggestCharts:', error);\n",
       "      }\n",
       "      quickchartButtonEl.classList.remove('colab-df-spinner');\n",
       "      quickchartButtonEl.classList.add('colab-df-quickchart-complete');\n",
       "    }\n",
       "    (() => {\n",
       "      let quickchartButtonEl =\n",
       "        document.querySelector('#df-26eee9aa-32d8-4b6c-99b5-8876b39ce219 button');\n",
       "      quickchartButtonEl.style.display =\n",
       "        google.colab.kernel.accessAllowed ? 'block' : 'none';\n",
       "    })();\n",
       "  </script>\n",
       "</div>\n",
       "\n",
       "    </div>\n",
       "  </div>\n"
      ],
      "text/plain": [
       "       NormalData  LaplaceData\n",
       "9996     0.042359    -0.203818\n",
       "9997     0.516872     0.070830\n",
       "9998    -0.032921    -0.118174\n",
       "9999     1.298111    -1.406202\n",
       "10000   -0.202117     0.418847"
      ]
     },
     "execution_count": 84,
     "metadata": {},
     "output_type": "execute_result"
    }
   ],
   "source": [
    "# Generate data\n",
    "n = 10001\n",
    "normalData = pd.DataFrame({\"NormalData\":   pd.Series(np.random.normal(0, 1, n))})\n",
    "laplaceData = pd.DataFrame({\"LaplaceData\": pd.Series(np.random.laplace(0,#mean location\n",
    "                                                                       1/np.sqrt(2),#scale parameter defining wideness\n",
    "                                                                                    #(the choice used here gives the same variance\n",
    "                                                                                    #as normal distribution with variance 1)\n",
    "                                                                       n))})\n",
    "\n",
    "\n",
    "# concatenation\n",
    "df = pd.concat([normalData, laplaceData], axis=1)\n",
    "df.tail()"
   ]
  },
  {
   "cell_type": "code",
   "execution_count": null,
   "metadata": {
    "colab": {
     "base_uri": "https://localhost:8080/",
     "height": 449
    },
    "id": "Pp3LdB9mvlY7",
    "outputId": "9c0cbaef-dbf6-4f91-8a02-ebdd880cfda2"
   },
   "outputs": [
    {
     "data": {
      "image/png": "[encoded data removed]",
      "text/plain": [
       "<Figure size 640x480 with 1 Axes>"
      ]
     },
     "metadata": {},
     "output_type": "display_data"
    }
   ],
   "source": [
    "# Plot\n",
    "sns.kdeplot(df['NormalData'], fill=True, color='Blue', label='Normal')\n",
    "sns.kdeplot(df['LaplaceData'], fill=True, color='Orange', label='Laplace')\n",
    "plt.xlabel('Data')\n",
    "plt.legend()\n",
    "plt.show()"
   ]
  },
  {
   "cell_type": "code",
   "execution_count": null,
   "metadata": {
    "colab": {
     "base_uri": "https://localhost:8080/",
     "height": 455
    },
    "id": "BCgw9o7ovlY9",
    "outputId": "9b242d2d-7864-4786-eb8a-06e23dce718e"
   },
   "outputs": [
    {
     "data": {
      "image/png": "[encoded data removed]",
      "text/plain": [
       "<Figure size 640x480 with 1 Axes>"
      ]
     },
     "metadata": {},
     "output_type": "display_data"
    }
   ],
   "source": [
    "#Zoom in\n",
    "sns.kdeplot(df['NormalData'], fill=True, color='Blue', label='Normal')\n",
    "sns.kdeplot(df['LaplaceData'], fill=True, color='Orange', label='Laplace')\n",
    "plt.xlabel('Data')\n",
    "plt.xlim(2,6)\n",
    "plt.ylim(0,0.1)\n",
    "plt.legend()\n",
    "plt.show()\n",
    "# You see more extreme values with Laplace even with the same variance. The Laplace\n",
    "# distribution is useful for modeling data where more extreme values are expected."
   ]
  },
  {
   "cell_type": "markdown",
   "metadata": {
    "id": "IrcD9wBtvlY_"
   },
   "source": [
    "The likelihood of the data is the product of the probability density function evaluated at each one of the data points. So, we really want to know what is the probability density function of the [Laplace distribution](https://en.wikipedia.org/wiki/Laplace_distribution).\n",
    "\n",
    "Negative, because Scipy gives us a minimization function. So we are going to minimize the negative log likelihood to get the maximum log likelihood. Recall: We do log to avoid getting underflow to zero."
   ]
  },
  {
   "cell_type": "code",
   "execution_count": null,
   "metadata": {
    "id": "2JNWgU7IvlZA"
   },
   "outputs": [],
   "source": [
    "# Laplace Negative Log Likelihood\n",
    "def laplaceNegLogLikelihood(mu, b, y):\n",
    "    neg_log_lik = -(-n*np.log(2*b)-(1/b)*np.sum(abs(y-mu)))\n",
    "    return neg_log_lik\n",
    "\n",
    "# Let's latexify the Laplace Negative Log Likelihood function\n",
    "@latexify.with_latex\n",
    "def L(mu, b, y):\n",
    "    return -(-n*log(2*b)-(1/b)*sum(abs(y-mu)))\n",
    "L"
   ]
  },
  {
   "cell_type": "markdown",
   "metadata": {},
   "source": [
    "$\\text{Minimize} -(-n\\log (2b)-\\dfrac{1}{b}\\sum|y-\\mu|)$"
   ]
  },
  {
   "cell_type": "markdown",
   "metadata": {
    "id": "n8BKEPZ8vlZB"
   },
   "source": [
    "Develop a maximum likelihood function that takes a set of data and produces the maximum likelihood estimate for the mean of those data:"
   ]
  },
  {
   "cell_type": "code",
   "execution_count": null,
   "metadata": {
    "colab": {
     "base_uri": "https://localhost:8080/"
    },
    "id": "un1-NjBgvlZD",
    "outputId": "f1eef7c1-0c7c-4426-fcab-845cc11089c4"
   },
   "outputs": [
    {
     "data": {
      "text/plain": [
       "array([0.00155382])"
      ]
     },
     "execution_count": 96,
     "metadata": {},
     "output_type": "execute_result"
    }
   ],
   "source": [
    "## Laplace Maximum Likelihood Estimate for mu\n",
    "def maximumLikelihood(y):\n",
    "    RES = so.minimize(laplaceNegLogLikelihood, 1, args=(1, y), method=\"Powell\", tol = 1e-8) # Powell works better for functions that are not differentiable everywhere\n",
    "    # print(RES)\n",
    "    return RES.x\n",
    "\n",
    "# Test the function\n",
    "maximumLikelihood(df.LaplaceData.values)"
   ]
  },
  {
   "cell_type": "markdown",
   "metadata": {
    "id": "r9de0BITvlZE"
   },
   "source": [
    "which is very close to zero set for the original data."
   ]
  },
  {
   "cell_type": "code",
   "execution_count": null,
   "metadata": {
    "colab": {
     "base_uri": "https://localhost:8080/"
    },
    "id": "rAECx5oNvlZE",
    "outputId": "1d1107e3-8179-41d1-bb53-b4cabdf62ff2"
   },
   "outputs": [
    {
     "data": {
      "text/plain": [
       "0.0016"
      ]
     },
     "execution_count": 89,
     "metadata": {},
     "output_type": "execute_result"
    }
   ],
   "source": [
    "# Minimizing the sum of absolute differences should be the same as median:\n",
    "round(df.LaplaceData.median(),4)"
   ]
  },
  {
   "cell_type": "markdown",
   "metadata": {
    "id": "bI7st2sfQ0G7"
   },
   "source": [
    "Proof:\n",
    "\n",
    "Since we're about to maximize the loglikelihood (minimize negative loglikelihood), we have to take derivative of the absolute value term involving $\\mu$. The derivative of the absolute value function is the $sign$ function. ($\\dfrac{∂|t|}{∂t}=sign(t)$). Therefore, $\\dfrac{∂\\sum |y-\\mu|}{∂\\mu}=\\sum sign(y-\\mu)$. Setting the derivative equal to $0$ (*i.e.*, $\\sum sign(y-\\mu)=0$) in order to find the mle results in the solution to be the median. (Half of the points above the value $\\mu$ to make the $sign$ function equal to $1$, and half below it to make the $sign$ function equal to $-1$."
   ]
  },
  {
   "cell_type": "code",
   "execution_count": null,
   "metadata": {
    "id": "hhsmsaobvlZF"
   },
   "outputs": [],
   "source": [
    "# Laplace Negative Log Likelihood for regression\n",
    "def laplaceRegNegLogLikelihood(beta, X, y):\n",
    "    mu = (X@beta).reshape(-1,1) # compute the mean that we would have if assumed that the form of the function of the mean is beta times X\n",
    "    return laplaceNegLogLikelihood(mu, 1, y)"
   ]
  },
  {
   "cell_type": "markdown",
   "metadata": {
    "id": "-g6Wd48rvlZG"
   },
   "source": [
    "So, now if we want the maximum likelihood estimated at the regression coefficients we are going to write a function that takes in the X's and the Y's and then optimizes `laplaceRegNegLogLikelihood` to find the betas that are the maximum likelihood estimates for vector beta.  "
   ]
  },
  {
   "cell_type": "code",
   "execution_count": null,
   "metadata": {
    "id": "3bX--nBEvlZG"
   },
   "outputs": [],
   "source": [
    "# Function to maximize regression log likelihood\n",
    "def maximumRegLikelihood(X, y, negloglik=laplaceRegNegLogLikelihood):\n",
    "    nrows, ncols = X.shape\n",
    "    betas=np.zeros((ncols,1)) # initialize vector beta\n",
    "    RES = so.minimize(negloglik, np.squeeze(betas), args=(X,y), method=\"Powell\", tol=1e-8)\n",
    "    print(RES.x)\n",
    "    return RES.x"
   ]
  },
  {
   "cell_type": "markdown",
   "metadata": {
    "id": "61pPUnXOvlZH"
   },
   "source": [
    "Let's test this out:"
   ]
  },
  {
   "cell_type": "code",
   "execution_count": null,
   "metadata": {
    "colab": {
     "base_uri": "https://localhost:8080/",
     "height": 206
    },
    "id": "Rc0ckLiBvlZH",
    "outputId": "e836efc3-ac9d-48ce-e129-b751dc579f03"
   },
   "outputs": [
    {
     "data": {
      "text/html": [
       "\n",
       "  <div id=\"df-7bd9a944-6ee4-4fe4-9007-ba9eff2b52ce\" class=\"colab-df-container\">\n",
       "    <div>\n",
       "<style scoped>\n",
       "    .dataframe tbody tr th:only-of-type {\n",
       "        vertical-align: middle;\n",
       "    }\n",
       "\n",
       "    .dataframe tbody tr th {\n",
       "        vertical-align: top;\n",
       "    }\n",
       "\n",
       "    .dataframe thead th {\n",
       "        text-align: right;\n",
       "    }\n",
       "</style>\n",
       "<table border=\"1\" class=\"dataframe\">\n",
       "  <thead>\n",
       "    <tr style=\"text-align: right;\">\n",
       "      <th></th>\n",
       "      <th>age</th>\n",
       "      <th>pace</th>\n",
       "    </tr>\n",
       "  </thead>\n",
       "  <tbody>\n",
       "    <tr>\n",
       "      <th>0</th>\n",
       "      <td>38</td>\n",
       "      <td>3.73</td>\n",
       "    </tr>\n",
       "    <tr>\n",
       "      <th>1</th>\n",
       "      <td>75</td>\n",
       "      <td>7.53</td>\n",
       "    </tr>\n",
       "    <tr>\n",
       "      <th>2</th>\n",
       "      <td>35</td>\n",
       "      <td>4.73</td>\n",
       "    </tr>\n",
       "    <tr>\n",
       "      <th>3</th>\n",
       "      <td>27</td>\n",
       "      <td>4.26</td>\n",
       "    </tr>\n",
       "    <tr>\n",
       "      <th>4</th>\n",
       "      <td>54</td>\n",
       "      <td>5.40</td>\n",
       "    </tr>\n",
       "  </tbody>\n",
       "</table>\n",
       "</div>\n",
       "    <div class=\"colab-df-buttons\">\n",
       "\n",
       "  <div class=\"colab-df-container\">\n",
       "    <button class=\"colab-df-convert\" onclick=\"convertToInteractive('df-7bd9a944-6ee4-4fe4-9007-ba9eff2b52ce')\"\n",
       "            title=\"Convert this dataframe to an interactive table.\"\n",
       "            style=\"display:none;\">\n",
       "\n",
       "  <svg xmlns=\"http://www.w3.org/2000/svg\" height=\"24px\" viewBox=\"0 -960 960 960\">\n",
       "    <path d=\"M120-120v-720h720v720H120Zm60-500h600v-160H180v160Zm220 220h160v-160H400v160Zm0 220h160v-160H400v160ZM180-400h160v-160H180v160Zm440 0h160v-160H620v160ZM180-180h160v-160H180v160Zm440 0h160v-160H620v160Z\"/>\n",
       "  </svg>\n",
       "    </button>\n",
       "\n",
       "  <style>\n",
       "    .colab-df-container {\n",
       "      display:flex;\n",
       "      gap: 12px;\n",
       "    }\n",
       "\n",
       "    .colab-df-convert {\n",
       "      background-color: #E8F0FE;\n",
       "      border: none;\n",
       "      border-radius: 50%;\n",
       "      cursor: pointer;\n",
       "      display: none;\n",
       "      fill: #1967D2;\n",
       "      height: 32px;\n",
       "      padding: 0 0 0 0;\n",
       "      width: 32px;\n",
       "    }\n",
       "\n",
       "    .colab-df-convert:hover {\n",
       "      background-color: #E2EBFA;\n",
       "      box-shadow: 0px 1px 2px rgba(60, 64, 67, 0.3), 0px 1px 3px 1px rgba(60, 64, 67, 0.15);\n",
       "      fill: #174EA6;\n",
       "    }\n",
       "\n",
       "    .colab-df-buttons div {\n",
       "      margin-bottom: 4px;\n",
       "    }\n",
       "\n",
       "    [theme=dark] .colab-df-convert {\n",
       "      background-color: #3B4455;\n",
       "      fill: #D2E3FC;\n",
       "    }\n",
       "\n",
       "    [theme=dark] .colab-df-convert:hover {\n",
       "      background-color: #434B5C;\n",
       "      box-shadow: 0px 1px 3px 1px rgba(0, 0, 0, 0.15);\n",
       "      filter: drop-shadow(0px 1px 2px rgba(0, 0, 0, 0.3));\n",
       "      fill: #FFFFFF;\n",
       "    }\n",
       "  </style>\n",
       "\n",
       "    <script>\n",
       "      const buttonEl =\n",
       "        document.querySelector('#df-7bd9a944-6ee4-4fe4-9007-ba9eff2b52ce button.colab-df-convert');\n",
       "      buttonEl.style.display =\n",
       "        google.colab.kernel.accessAllowed ? 'block' : 'none';\n",
       "\n",
       "      async function convertToInteractive(key) {\n",
       "        const element = document.querySelector('#df-7bd9a944-6ee4-4fe4-9007-ba9eff2b52ce');\n",
       "        const dataTable =\n",
       "          await google.colab.kernel.invokeFunction('convertToInteractive',\n",
       "                                                    [key], {});\n",
       "        if (!dataTable) return;\n",
       "\n",
       "        const docLinkHtml = 'Like what you see? Visit the ' +\n",
       "          '<a target=\"_blank\" href=https://colab.research.google.com/notebooks/data_table.ipynb>data table notebook</a>'\n",
       "          + ' to learn more about interactive tables.';\n",
       "        element.innerHTML = '';\n",
       "        dataTable['output_type'] = 'display_data';\n",
       "        await google.colab.output.renderOutput(dataTable, element);\n",
       "        const docLink = document.createElement('div');\n",
       "        docLink.innerHTML = docLinkHtml;\n",
       "        element.appendChild(docLink);\n",
       "      }\n",
       "    </script>\n",
       "  </div>\n",
       "\n",
       "\n",
       "<div id=\"df-ce918494-13d2-4d3e-b929-b55c1f0b9512\">\n",
       "  <button class=\"colab-df-quickchart\" onclick=\"quickchart('df-ce918494-13d2-4d3e-b929-b55c1f0b9512')\"\n",
       "            title=\"Suggest charts\"\n",
       "            style=\"display:none;\">\n",
       "\n",
       "<svg xmlns=\"http://www.w3.org/2000/svg\" height=\"24px\"viewBox=\"0 0 24 24\"\n",
       "     width=\"24px\">\n",
       "    <g>\n",
       "        <path d=\"M19 3H5c-1.1 0-2 .9-2 2v14c0 1.1.9 2 2 2h14c1.1 0 2-.9 2-2V5c0-1.1-.9-2-2-2zM9 17H7v-7h2v7zm4 0h-2V7h2v10zm4 0h-2v-4h2v4z\"/>\n",
       "    </g>\n",
       "</svg>\n",
       "  </button>\n",
       "\n",
       "<style>\n",
       "  .colab-df-quickchart {\n",
       "      --bg-color: #E8F0FE;\n",
       "      --fill-color: #1967D2;\n",
       "      --hover-bg-color: #E2EBFA;\n",
       "      --hover-fill-color: #174EA6;\n",
       "      --disabled-fill-color: #AAA;\n",
       "      --disabled-bg-color: #DDD;\n",
       "  }\n",
       "\n",
       "  [theme=dark] .colab-df-quickchart {\n",
       "      --bg-color: #3B4455;\n",
       "      --fill-color: #D2E3FC;\n",
       "      --hover-bg-color: #434B5C;\n",
       "      --hover-fill-color: #FFFFFF;\n",
       "      --disabled-bg-color: #3B4455;\n",
       "      --disabled-fill-color: #666;\n",
       "  }\n",
       "\n",
       "  .colab-df-quickchart {\n",
       "    background-color: var(--bg-color);\n",
       "    border: none;\n",
       "    border-radius: 50%;\n",
       "    cursor: pointer;\n",
       "    display: none;\n",
       "    fill: var(--fill-color);\n",
       "    height: 32px;\n",
       "    padding: 0;\n",
       "    width: 32px;\n",
       "  }\n",
       "\n",
       "  .colab-df-quickchart:hover {\n",
       "    background-color: var(--hover-bg-color);\n",
       "    box-shadow: 0 1px 2px rgba(60, 64, 67, 0.3), 0 1px 3px 1px rgba(60, 64, 67, 0.15);\n",
       "    fill: var(--button-hover-fill-color);\n",
       "  }\n",
       "\n",
       "  .colab-df-quickchart-complete:disabled,\n",
       "  .colab-df-quickchart-complete:disabled:hover {\n",
       "    background-color: var(--disabled-bg-color);\n",
       "    fill: var(--disabled-fill-color);\n",
       "    box-shadow: none;\n",
       "  }\n",
       "\n",
       "  .colab-df-spinner {\n",
       "    border: 2px solid var(--fill-color);\n",
       "    border-color: transparent;\n",
       "    border-bottom-color: var(--fill-color);\n",
       "    animation:\n",
       "      spin 1s steps(1) infinite;\n",
       "  }\n",
       "\n",
       "  @keyframes spin {\n",
       "    0% {\n",
       "      border-color: transparent;\n",
       "      border-bottom-color: var(--fill-color);\n",
       "      border-left-color: var(--fill-color);\n",
       "    }\n",
       "    20% {\n",
       "      border-color: transparent;\n",
       "      border-left-color: var(--fill-color);\n",
       "      border-top-color: var(--fill-color);\n",
       "    }\n",
       "    30% {\n",
       "      border-color: transparent;\n",
       "      border-left-color: var(--fill-color);\n",
       "      border-top-color: var(--fill-color);\n",
       "      border-right-color: var(--fill-color);\n",
       "    }\n",
       "    40% {\n",
       "      border-color: transparent;\n",
       "      border-right-color: var(--fill-color);\n",
       "      border-top-color: var(--fill-color);\n",
       "    }\n",
       "    60% {\n",
       "      border-color: transparent;\n",
       "      border-right-color: var(--fill-color);\n",
       "    }\n",
       "    80% {\n",
       "      border-color: transparent;\n",
       "      border-right-color: var(--fill-color);\n",
       "      border-bottom-color: var(--fill-color);\n",
       "    }\n",
       "    90% {\n",
       "      border-color: transparent;\n",
       "      border-bottom-color: var(--fill-color);\n",
       "    }\n",
       "  }\n",
       "</style>\n",
       "\n",
       "  <script>\n",
       "    async function quickchart(key) {\n",
       "      const quickchartButtonEl =\n",
       "        document.querySelector('#' + key + ' button');\n",
       "      quickchartButtonEl.disabled = true;  // To prevent multiple clicks.\n",
       "      quickchartButtonEl.classList.add('colab-df-spinner');\n",
       "      try {\n",
       "        const charts = await google.colab.kernel.invokeFunction(\n",
       "            'suggestCharts', [key], {});\n",
       "      } catch (error) {\n",
       "        console.error('Error during call to suggestCharts:', error);\n",
       "      }\n",
       "      quickchartButtonEl.classList.remove('colab-df-spinner');\n",
       "      quickchartButtonEl.classList.add('colab-df-quickchart-complete');\n",
       "    }\n",
       "    (() => {\n",
       "      let quickchartButtonEl =\n",
       "        document.querySelector('#df-ce918494-13d2-4d3e-b929-b55c1f0b9512 button');\n",
       "      quickchartButtonEl.style.display =\n",
       "        google.colab.kernel.accessAllowed ? 'block' : 'none';\n",
       "    })();\n",
       "  </script>\n",
       "</div>\n",
       "\n",
       "    </div>\n",
       "  </div>\n"
      ],
      "text/plain": [
       "   age  pace\n",
       "0   38  3.73\n",
       "1   75  7.53\n",
       "2   35  4.73\n",
       "3   27  4.26\n",
       "4   54  5.40"
      ]
     },
     "execution_count": 92,
     "metadata": {},
     "output_type": "execute_result"
    }
   ],
   "source": [
    "run_data = pd.read_csv(filename).drop(\"Unnamed: 0\", axis=1)\n",
    "run_data.head()"
   ]
  },
  {
   "cell_type": "code",
   "execution_count": null,
   "metadata": {
    "colab": {
     "base_uri": "https://localhost:8080/"
    },
    "id": "vG2cffVBvlZI",
    "outputId": "a68cc5c5-e1e1-49cd-a5f9-40e075e06bff"
   },
   "outputs": [
    {
     "name": "stdout",
     "output_type": "stream",
     "text": [
      "[3.33521739 0.03434783]\n"
     ]
    }
   ],
   "source": [
    "x_train = run_data.age.values\n",
    "X_train = np.c_[np.ones(x_train.size), x_train]\n",
    "y_train = run_data.pace.values.reshape(-1,1)\n",
    "\n",
    "betas = maximumRegLikelihood(X_train, y_train)"
   ]
  },
  {
   "cell_type": "code",
   "execution_count": null,
   "metadata": {
    "id": "BpN16-ksvlZJ"
   },
   "outputs": [],
   "source": [
    "x_new = np.linspace(run_data.age.values.min(), run_data.age.values.max()+20, 100)\n",
    "X_new = np.c_[np.ones(x_new.size), x_new]\n",
    "y_predicted = X_new@betas\n",
    "\n",
    "fig, ax = plt.subplots()\n",
    "fig.set_size_inches(12, 7)\n",
    "plt.scatter(x_train, y_train, c='blue', label='Training Data')\n",
    "plt.plot(x_new, y_predicted, c='orange', label='Maximum Likelihood Regression')\n",
    "plt.legend()\n",
    "plt.xlabel(\"Age [Years]\")\n",
    "plt.ylabel(\"Pace [Minutes/Kilometer]\")\n",
    "plt.show()"
   ]
  },
  {
   "cell_type": "markdown",
   "metadata": {
    "id": "GZYHkdDQvlZK"
   },
   "source": [
    "Let's compare the data actual distributions against some ideal distributions:"
   ]
  },
  {
   "cell_type": "code",
   "execution_count": null,
   "metadata": {
    "id": "2SlQcnOwvlZK"
   },
   "outputs": [],
   "source": [
    "data = run_data['age']\n",
    "\n",
    "fig, ax = plt.subplots()\n",
    "fig.set_size_inches(12, 7)\n",
    "\n",
    "sns.kdeplot(data, fill=True, color='Orange', label='Actual Distribution')\n",
    "ylim = ax.get_ylim()\n",
    "plt.vlines(data.median(), ylim[0], ylim[1], color='green', label='Actual Distribution: Median Location')\n",
    "plt.vlines(data.mean(), ylim[0], ylim[1], color='red', label='Actual Distribution: Mean Location')\n",
    "\n",
    "sns.kdeplot(np.random.laplace(data.mean(), data.std(), 100000), fill=True, color='Green', label='Ideal Laplace Distribution')\n",
    "sns.kdeplot(np.random.normal(data.mean(), data.std(), 100000), fill=True, color='Blue', label='Ideal Normal Distribution')\n",
    "\n",
    "plt.xlim(0,100)\n",
    "plt.ylim(ylim)\n",
    "plt.legend()\n",
    "plt.show()"
   ]
  },
  {
   "cell_type": "code",
   "execution_count": null,
   "metadata": {
    "id": "VLDxk2jEvlZK"
   },
   "outputs": [],
   "source": [
    "data = run_data['pace']\n",
    "\n",
    "fig, ax = plt.subplots()\n",
    "fig.set_size_inches(12, 7)\n",
    "\n",
    "sns.kdeplot(data, fill=True, color='Orange', label='Actual Distribution')\n",
    "\n",
    "sns.kdeplot(np.random.laplace(data.mean(), data.std(), 100000), fill=True, color='Green', label='Ideal Laplace Distribution')\n",
    "\n",
    "ylim = ax.get_ylim()\n",
    "\n",
    "sns.kdeplot(np.random.normal(data.mean(), data.std(), 100000), fill=True, color='Blue', label='Ideal Normal Distribution')\n",
    "\n",
    "plt.vlines(data.median(), ylim[0], ylim[1], color='green', label='Actual Distribution: Median Location')\n",
    "plt.vlines(data.mean(), ylim[0], ylim[1], color='red', label='Actual Distribution: Mean Location')\n",
    "plt.xlim(0,10)\n",
    "plt.ylim(ylim)\n",
    "plt.legend()\n",
    "plt.show()"
   ]
  },
  {
   "cell_type": "markdown",
   "metadata": {
    "id": "qE96qRuvvlZL"
   },
   "source": [
    "Which ideal distribution is a better choice to represent the actual data?"
   ]
  },
  {
   "cell_type": "markdown",
   "metadata": {
    "id": "fcvpoQy-29-k"
   },
   "source": [
    "## Joint, Marginal, and Conditional Probability\n",
    "\n",
    "|                    | Marginal Probability | Joint Probability | Conditional Probability |\n",
    "| -----------        | ----------- | ----------- |----------- |\n",
    "| Definition         | The probability of an event occurring without considering any other events. | The probability of two or more events occurring simultaneously.|The probability of an event occurring given that another event has already occurred.|\n",
    "| Calculation        | $P(X=x)$       | $P(X=x,Y=y)$        |$P(Y=y \\mid X=x)$        |"
   ]
  },
  {
   "cell_type": "markdown",
   "metadata": {
    "id": "gofpQ-i429-k"
   },
   "source": [
    "### **Example:** Calculate Conditional Probability\n",
    "\n",
    "Suppose we sent out a survey to 300 individuals asking them which sport they liked the best among baseball, basketball, football, and soccer, and we stored their responses in the dataframe below:"
   ]
  },
  {
   "cell_type": "code",
   "execution_count": null,
   "metadata": {
    "id": "TESoz4xs29-0"
   },
   "outputs": [],
   "source": [
    "df = pd.DataFrame({'gender': np.repeat(np.array(['Male', 'Female']), 150),\n",
    "                   'sport': np.repeat(np.array(['Baseball', 'Basketball', 'Football', 'Soccer',\n",
    "                                                'Baseball', 'Basketball', 'Football', 'Soccer']),\n",
    "                                                (34, 40, 58, 18, 34, 52, 20, 44))})\n",
    "\n",
    "display(df)"
   ]
  },
  {
   "cell_type": "markdown",
   "metadata": {
    "id": "QWcVECNr29-0"
   },
   "source": [
    "### Calculate the following:\n",
    "\n",
    "**A)**  $P(\\text{Gender}=\\text{Male} \\mid \\text{Sport}=\\text{Baseball})=\\dfrac{P(\\text{Gender}=\\text{Male} \\;,\\; \\text{Sport}=\\text{Baseball)}}{P(\\text{Sport}=\\text{Baseball})}$\n",
    "\n",
    "\n",
    "\n",
    "**B)**  $P(\\text{Sport}=\\text{Basketball} \\mid \\text{Gender}=\\text{Female})=\\dfrac{P(\\text{Sport}=\\text{Basketball} \\;,\\; \\text{Gender}=\\text{Female})}{P(\\text{Gender}=\\text{Female})}$"
   ]
  },
  {
   "cell_type": "code",
   "execution_count": null,
   "metadata": {
    "id": "FjE6OsCJ29-1"
   },
   "outputs": [],
   "source": [
    "# First create a contingency table using `crosstab` to summarize the raw data\n",
    "c_table = pd.crosstab(index=df['gender'], columns=df['sport'], margins=True)\n",
    "display(c_table)"
   ]
  },
  {
   "cell_type": "code",
   "execution_count": null,
   "metadata": {
    "id": "JXrEvxTi29-1"
   },
   "outputs": [],
   "source": [
    "# A)  34/68\n",
    "print(str.format('A) {0:.2f}', c_table.iloc[1, 0] / c_table.iloc[2, 0]))\n",
    "\n",
    "# B)  52/150\n",
    "print(str.format('B) {0:.4f}', c_table.iloc[0, 1] / c_table.iloc[0, 4]))"
   ]
  },
  {
   "cell_type": "code",
   "execution_count": 1,
   "metadata": {
    "id": "NxD8mV2tCpuO"
   },
   "outputs": [],
   "source": [
    "# useful other argument to use:\n",
    "c_table = pd.crosstab(index=df['gender'], columns=df['sport'], margins=True, normalize= 'columns') #could have been 'rows' or 'all' as well\n",
    "display(c_table)"
   ]
  }
 ],
 "metadata": {
  "colab": {
   "provenance": []
  },
  "kernelspec": {
   "display_name": "Python 3 (ipykernel)",
   "language": "python",
   "name": "python3"
  },
  "language_info": {
   "codemirror_mode": {
    "name": "ipython",
    "version": 3
   },
   "file_extension": ".py",
   "mimetype": "text/x-python",
   "name": "python",
   "nbconvert_exporter": "python",
   "pygments_lexer": "ipython3",
   "version": "3.11.4"
  },
  "vscode": {
   "interpreter": {
    "hash": "4cf54da1fa2bfaaf765c8cfc6607d65e7d4fad206be9d3aaaa3092ea7752f769"
   }
  }
 },
 "nbformat": 4,
 "nbformat_minor": 1
}
